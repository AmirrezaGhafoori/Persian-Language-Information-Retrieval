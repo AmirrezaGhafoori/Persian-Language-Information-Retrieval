{
 "cells": [
  {
   "cell_type": "code",
   "execution_count": 22,
   "metadata": {},
   "outputs": [],
   "source": [
    "import pandas as pd \n",
    "import numpy as np\n",
    "import string\n",
    "import json\n",
    "import pickle\n",
    "import math"
   ]
  },
  {
   "cell_type": "code",
   "execution_count": 26,
   "metadata": {},
   "outputs": [],
   "source": [
    "#word_freq_dict will save the frequency of each word in all of the documents\n",
    "number_of_all_docs = 10\n",
    "word_freq_dict = {}\n",
    "#inverted_index_dict will save the inverted index for each word, \n",
    "#and also the positions of each word in all the documents\n",
    "inverted_index_dict = {}\n",
    "#This dictionary will be like:\n",
    "\"\"\"\n",
    "inverted_index_dict={\n",
    "    \"word\": {\"docs\": {\n",
    "                    \"doc_id\":{\n",
    "                            \"positions\": [],\n",
    "                            \"tf\": int\n",
    "                    }\n",
    "             },\n",
    "            \"df\": int\n",
    "    }\n",
    "}\n",
    "\n",
    "\n",
    "\n",
    "\"\"\"\n",
    "\n",
    "stop_words = []"
   ]
  },
  {
   "cell_type": "code",
   "execution_count": 4,
   "metadata": {},
   "outputs": [
    {
     "data": {
      "text/plain": [
       "150"
      ]
     },
     "execution_count": 4,
     "metadata": {},
     "output_type": "execute_result"
    }
   ],
   "source": [
    "dic1 = {\"1\":1, \"2\":22, \"3\":333}\n",
    "# # if \"4\" not in dic1.keys():\n",
    "# #     dic1[\"4\"] = 4444\n",
    "# dic1\n",
    "# stringam = \"سلام امیررضا خوبی داداش من خوبم\"\n",
    "f = open(\"./stop_words.txt\", \"r\")\n",
    "\n",
    "stop_words_string = f.read()\n",
    "stop_words_list = stop_words_string.split()\n",
    "len(stop_words_list)"
   ]
  },
  {
   "cell_type": "code",
   "execution_count": 5,
   "metadata": {},
   "outputs": [],
   "source": [
    "#This method will do some normalization on text files. \n",
    "# def normalizer (words_list):\n",
    "    "
   ]
  },
  {
   "cell_type": "code",
   "execution_count": 6,
   "metadata": {},
   "outputs": [],
   "source": [
    "#This method will return the positions of a word in a text file (the input is tokens list)\n",
    "def word_positions (word, tokenized_text):\n",
    "    positions = [i for i, x in enumerate(tokenized_text) if x == word]\n",
    "    return positions\n",
    "\n",
    "#This funcntions will make a list of unique words in a words_list\n",
    "def different_words (words_list):\n",
    "    \n",
    "    different_words_list = []\n",
    "    for word in words_list:\n",
    "        if word not in different_words_list:\n",
    "            different_words_list.append(word)\n",
    "            \n",
    "    return different_words_list\n"
   ]
  },
  {
   "cell_type": "code",
   "execution_count": 9,
   "metadata": {},
   "outputs": [],
   "source": [
    "#This method will update the inverted index by processing new document\n",
    "def update_inverted_index (text_file_number, inverted_index_dict, word_freq_dict):\n",
    "    #Reading the text file \n",
    "    \n",
    "    text_file_name = str(text_file_number)\n",
    "    file_path = \"./sampleDoc/\" + text_file_name + \".txt\"\n",
    "    f = open(file_path, \"r\")\n",
    "\n",
    "    text = f.read()\n",
    "\n",
    "    #Remmoving punctuations from the text string\n",
    "    result = text.translate(str.maketrans('','', string.punctuation))\n",
    "\n",
    "    #Removin نیم فاصله from the text string\n",
    "    result = result.replace(\"\\u200c\", \" \")\n",
    "#     resutl = result.replace(\"\\u200b\", \"\")\n",
    "    \n",
    "    #Splitting the string into seperate words (tokenizing)\n",
    "    words_list = result.split()\n",
    "    \n",
    "    different_words_list = different_words (words_list)\n",
    "    \n",
    "    #This loop will update the words frequency dictionary\n",
    "    for word in words_list:\n",
    "        if word not in word_freq_dict.keys():\n",
    "            word_freq_dict[word] = 1\n",
    "        else:\n",
    "            word_freq_dict[word] += 1\n",
    "    \n",
    "    #This loop will update the inverted index dictionary \n",
    "    for word in different_words_list:\n",
    "        word_positions_list = word_positions (word, words_list) \n",
    "        if word not in inverted_index_dict.keys():\n",
    "            inverted_index_dict[word] = {\"docs\":{}, \"df\": 1}\n",
    "            inverted_index_dict[word][\"docs\"][text_file_name] = {\"positions\": word_positions_list, \"tf\":len(word_positions_list)}\n",
    "        else:\n",
    "            inverted_index_dict[word][\"docs\"][text_file_name] = {\"positions\": word_positions_list, \"tf\":len(word_positions_list)}\n",
    "            inverted_index_dict[word][\"df\"] += 1\n",
    "            "
   ]
  },
  {
   "cell_type": "code",
   "execution_count": 10,
   "metadata": {},
   "outputs": [
    {
     "data": {
      "text/plain": [
       "{}"
      ]
     },
     "execution_count": 10,
     "metadata": {},
     "output_type": "execute_result"
    }
   ],
   "source": [
    "# update_inverted_index (1, inverted_index_dict, word_freq_dict)\n",
    "\n",
    "inverted_index_dict"
   ]
  },
  {
   "cell_type": "code",
   "execution_count": 50,
   "metadata": {},
   "outputs": [
    {
     "data": {
      "text/plain": [
       "{'docs': {'1': {'positions': [8], 'tf': 1},\n",
       "  '3': {'positions': [16], 'tf': 1},\n",
       "  '5': {'positions': [13], 'tf': 1},\n",
       "  '7': {'positions': [23], 'tf': 1},\n",
       "  '9': {'positions': [0, 40], 'tf': 2},\n",
       "  '10': {'positions': [55], 'tf': 1}},\n",
       " 'df': 6}"
      ]
     },
     "execution_count": 50,
     "metadata": {},
     "output_type": "execute_result"
    }
   ],
   "source": [
    "for i in range (1,11):\n",
    "    update_inverted_index (i, inverted_index_dict, word_freq_dict)\n",
    "\n",
    "inverted_index_dict[\"گزارش\"]"
   ]
  },
  {
   "cell_type": "code",
   "execution_count": 51,
   "metadata": {},
   "outputs": [],
   "source": [
    "#We will save the inverted index dictioinary in a pickle file to use it later\n",
    "inverted_index_dict\n",
    "a_file = open(\"data.pkl\", \"wb\")\n",
    "pickle.dump(inverted_index_dict, a_file)\n",
    "a_file.close()\n"
   ]
  },
  {
   "cell_type": "code",
   "execution_count": 52,
   "metadata": {},
   "outputs": [
    {
     "name": "stdout",
     "output_type": "stream",
     "text": [
      "{'نصوریان': {'docs': {'1': {'positions': [0], 'tf': 1}}, 'df': 1}, 'سرمربی': {'docs': {'1': {'positions': [1, 37], 'tf': 2}}, 'df': 1}, 'تراکتور': {'docs': {'1': {'positions': [2, 14, 46, 80], 'tf': 4}}, 'df': 1}, 'از': {'docs': {'1': {'positions': [3, 24], 'tf': 2}, '3': {'positions': [69, 120, 203], 'tf': 3}, '4': {'positions': [190], 'tf': 1}, '5': {'positions': [59], 'tf': 1}, '6': {'positions': [45, 61, 73, 194], 'tf': 4}, '9': {'positions': [19, 44, 108, 130], 'tf': 4}, '10': {'positions': [3, 60, 88, 167], 'tf': 4}}, 'df': 7}, 'سمتش': {'docs': {'1': {'positions': [4, 25], 'tf': 2}}, 'df': 1}, 'برکنار': {'docs': {'1': {'positions': [5, 26], 'tf': 2}}, 'df': 1}, 'شد': {'docs': {'1': {'positions': [6, 27], 'tf': 2}, '2': {'positions': [4, 170], 'tf': 2}, '3': {'positions': [84], 'tf': 1}, '4': {'positions': [88, 296, 429], 'tf': 3}, '9': {'positions': [102, 134], 'tf': 2}}, 'df': 5}, 'به': {'docs': {'1': {'positions': [7, 58, 64], 'tf': 3}, '2': {'positions': [15, 35, 52, 69, 85, 104, 125, 159], 'tf': 8}, '3': {'positions': [15, 55, 180], 'tf': 3}, '4': {'positions': [55, 71, 91], 'tf': 3}, '5': {'positions': [12, 44, 81, 104], 'tf': 4}, '6': {'positions': [17, 51, 64, 87, 105, 118, 149], 'tf': 7}, '7': {'positions': [3, 22, 80, 89, 117], 'tf': 5}, '8': {'positions': [27, 59, 114, 126], 'tf': 4}, '9': {'positions': [25, 39, 62, 103, 116, 126], 'tf': 6}, '10': {'positions': [28, 32, 54, 58, 73, 118, 129], 'tf': 7}}, 'df': 10}, 'گزارش': {'docs': {'1': {'positions': [8], 'tf': 1}, '3': {'positions': [16], 'tf': 1}, '5': {'positions': [13], 'tf': 1}, '7': {'positions': [23], 'tf': 1}, '9': {'positions': [0, 40], 'tf': 2}, '10': {'positions': [55], 'tf': 1}}, 'df': 6}, 'تابناک': {'docs': {'1': {'positions': [9], 'tf': 1}, '3': {'positions': [17], 'tf': 1}, '5': {'positions': [14], 'tf': 1}, '7': {'positions': [24], 'tf': 1}, '8': {'positions': [70], 'tf': 1}, '10': {'positions': [56], 'tf': 1}}, 'df': 6}, 'ورزشی،': {'docs': {'1': {'positions': [10], 'tf': 1}, '3': {'positions': [18], 'tf': 1}, '5': {'positions': [15], 'tf': 1}, '7': {'positions': [25], 'tf': 1}}, 'df': 4}, 'با': {'docs': {'1': {'positions': [11, 44, 79], 'tf': 3}, '2': {'positions': [7, 28, 45, 62, 78, 97, 117], 'tf': 7}, '3': {'positions': [52, 124, 189], 'tf': 3}, '4': {'positions': [67], 'tf': 1}, '5': {'positions': [4, 76], 'tf': 2}, '6': {'positions': [13, 30, 76, 82, 101, 114, 142, 184], 'tf': 8}, '8': {'positions': [35, 52, 74], 'tf': 3}, '9': {'positions': [118], 'tf': 1}, '10': {'positions': [17, 106, 139, 148], 'tf': 4}}, 'df': 9}, 'تصمیم': {'docs': {'1': {'positions': [12], 'tf': 1}}, 'df': 1}, 'مدیران': {'docs': {'1': {'positions': [13], 'tf': 1}}, 'df': 1}, 'و': {'docs': {'1': {'positions': [15, 28, 42], 'tf': 3}, '2': {'positions': [18, 21, 38, 55, 72, 88, 91, 107, 110, 113, 128, 131, 139, 146, 153, 163], 'tf': 16}, '3': {'positions': [116, 132, 148, 151, 207], 'tf': 5}, '4': {'positions': [26, 75, 78, 84, 106, 113, 120, 127, 140, 147, 155, 163, 171, 178, 181, 198, 206, 213, 224, 232, 249, 256, 263, 271, 279, 286, 292, 304, 311, 318, 326, 333, 343, 350, 358, 365, 374, 392, 400, 407, 415, 418, 424], 'tf': 43}, '5': {'positions': [28, 34, 98], 'tf': 3}, '6': {'positions': [24, 110, 134, 175, 190], 'tf': 5}, '7': {'positions': [47, 68, 125], 'tf': 3}, '8': {'positions': [34, 47, 131], 'tf': 3}, '9': {'positions': [24, 54, 70, 113], 'tf': 4}, '10': {'positions': [44, 92, 147, 153, 159], 'tf': 5}}, 'df': 10}, 'بدلیل': {'docs': {'1': {'positions': [16], 'tf': 1}}, 'df': 1}, 'نتایج': {'docs': {'1': {'positions': [17, 39], 'tf': 2}}, 'df': 1}, 'ضعیف': {'docs': {'1': {'positions': [18, 40], 'tf': 2}}, 'df': 1}, 'این': {'docs': {'1': {'positions': [19, 36], 'tf': 2}, '3': {'positions': [30, 190], 'tf': 2}, '5': {'positions': [73], 'tf': 1}, '6': {'positions': [152], 'tf': 1}, '7': {'positions': [84, 112], 'tf': 2}, '8': {'positions': [53, 62, 85, 132], 'tf': 4}, '9': {'positions': [59, 110, 121], 'tf': 3}, '10': {'positions': [95, 107, 168], 'tf': 3}}, 'df': 8}, 'تیم': {'docs': {'1': {'positions': [20], 'tf': 1}, '3': {'positions': [31, 41, 131, 140, 209], 'tf': 5}, '5': {'positions': [6, 41, 56], 'tf': 3}, '9': {'positions': [51, 60, 111, 122], 'tf': 4}}, 'df': 4}, 'پرستاره': {'docs': {'1': {'positions': [21], 'tf': 1}, '9': {'positions': [112], 'tf': 1}}, 'df': 2}, 'علیرضا': {'docs': {'1': {'positions': [22], 'tf': 1}}, 'df': 1}, 'منصوریان': {'docs': {'1': {'positions': [23, 43, 70], 'tf': 3}}, 'df': 1}, 'زمستان': {'docs': {'1': {'positions': [29], 'tf': 1}}, 'df': 1}, 'تبریز': {'docs': {'1': {'positions': [30], 'tf': 1}}, 'df': 1}, 'را': {'docs': {'1': {'positions': [31], 'tf': 1}, '3': {'positions': [21, 65, 100, 118, 145, 179], 'tf': 6}, '4': {'positions': [13], 'tf': 1}, '5': {'positions': [86], 'tf': 1}, '6': {'positions': [148, 198], 'tf': 2}, '7': {'positions': [59, 77, 114], 'tf': 3}, '8': {'positions': [87, 104], 'tf': 2}, '10': {'positions': [5, 51, 85], 'tf': 3}}, 'df': 8}, 'هم': {'docs': {'1': {'positions': [32], 'tf': 1}, '2': {'positions': [43, 60], 'tf': 2}, '3': {'positions': [119], 'tf': 1}, '5': {'positions': [21], 'tf': 1}}, 'df': 4}, 'ندید': {'docs': {'1': {'positions': [33], 'tf': 1}}, 'df': 1}, 'علت': {'docs': {'1': {'positions': [34], 'tf': 1}}, 'df': 1}, 'برکناری': {'docs': {'1': {'positions': [35], 'tf': 1}}, 'df': 1}, 'کسب': {'docs': {'1': {'positions': [38], 'tf': 1}, '3': {'positions': [7], 'tf': 1}}, 'df': 2}, 'بود': {'docs': {'1': {'positions': [41, 48, 78], 'tf': 3}, '3': {'positions': [187], 'tf': 1}, '5': {'positions': [27, 71], 'tf': 2}, '6': {'positions': [41, 69, 94, 125, 156], 'tf': 5}, '8': {'positions': [67, 89, 119], 'tf': 3}}, 'df': 5}, 'هدایت': {'docs': {'1': {'positions': [45], 'tf': 1}, '3': {'positions': [53], 'tf': 1}, '7': {'positions': [75], 'tf': 1}}, 'df': 3}, 'توانسته': {'docs': {'1': {'positions': [47, 77], 'tf': 2}}, 'df': 1}, 'تنها': {'docs': {'1': {'positions': [49], 'tf': 1}}, 'df': 1}, 'یک': {'docs': {'1': {'positions': [50], 'tf': 1}, '2': {'positions': [16, 105], 'tf': 2}, '3': {'positions': [27, 72, 174], 'tf': 3}, '4': {'positions': [336, 368], 'tf': 2}, '6': {'positions': [163], 'tf': 1}, '8': {'positions': [100], 'tf': 1}}, 'df': 6}, 'پیروزی': {'docs': {'1': {'positions': [51], 'tf': 1}, '3': {'positions': [33], 'tf': 1}}, 'df': 2}, 'در': {'docs': {'1': {'positions': [52], 'tf': 1}, '2': {'positions': [135, 143, 167], 'tf': 3}, '3': {'positions': [5, 29, 34, 44, 110, 136, 139, 149, 168], 'tf': 9}, '4': {'positions': [4], 'tf': 1}, '5': {'positions': [17, 22, 48, 64, 75, 90, 95, 101], 'tf': 8}, '6': {'positions': [6, 49, 55, 59, 80, 99, 126, 140], 'tf': 8}, '7': {'positions': [14, 33, 87, 94, 101, 107, 128], 'tf': 7}, '8': {'positions': [30, 41, 65, 72, 82, 91, 105, 108], 'tf': 8}, '9': {'positions': [6, 31, 67, 123], 'tf': 4}, '10': {'positions': [25, 48, 65, 115, 144, 156, 162], 'tf': 7}}, 'df': 10}, '۵': {'docs': {'1': {'positions': [53], 'tf': 1}, '4': {'positions': [111, 169, 211], 'tf': 3}}, 'df': 2}, 'هفته': {'docs': {'1': {'positions': [54], 'tf': 1}, '5': {'positions': [50], 'tf': 1}}, 'df': 2}, 'نخست': {'docs': {'1': {'positions': [55], 'tf': 1}}, 'df': 1}, 'لیگ': {'docs': {'1': {'positions': [56], 'tf': 1}, '3': {'positions': [10], 'tf': 1}, '5': {'positions': [52], 'tf': 1}, '9': {'positions': [9], 'tf': 1}}, 'df': 4}, 'بیستم': {'docs': {'1': {'positions': [57], 'tf': 1}}, 'df': 1}, 'دست': {'docs': {'1': {'positions': [59], 'tf': 1}, '3': {'positions': [58, 121], 'tf': 2}, '9': {'positions': [20], 'tf': 1}}, 'df': 3}, 'بیاورد': {'docs': {'1': {'positions': [60], 'tf': 1}}, 'df': 1}, 'نام': {'docs': {'1': {'positions': [61], 'tf': 1}, '3': {'positions': [155], 'tf': 1}}, 'df': 2}, 'ساکت': {'docs': {'1': {'positions': [62], 'tf': 1}}, 'df': 1}, 'الهامی': {'docs': {'1': {'positions': [63, 74], 'tf': 2}}, 'df': 1}, 'عنوان': {'docs': {'1': {'positions': [65], 'tf': 1}, '3': {'positions': [56], 'tf': 1}}, 'df': 2}, 'جدی': {'docs': {'1': {'positions': [66], 'tf': 1}}, 'df': 1}, 'ترین': {'docs': {'1': {'positions': [67], 'tf': 1}}, 'df': 1}, 'گزینه': {'docs': {'1': {'positions': [68], 'tf': 1}}, 'df': 1}, 'جانشینی': {'docs': {'1': {'positions': [69], 'tf': 1}}, 'df': 1}, 'مطرح': {'docs': {'1': {'positions': [71], 'tf': 1}}, 'df': 1}, 'شده': {'docs': {'1': {'positions': [72], 'tf': 1}, '6': {'positions': [40], 'tf': 1}, '7': {'positions': [127], 'tf': 1}, '10': {'positions': [77, 152], 'tf': 2}}, 'df': 4}, 'است': {'docs': {'1': {'positions': [73], 'tf': 1}, '3': {'positions': [37, 49, 123, 220], 'tf': 4}, '7': {'positions': [51, 100], 'tf': 2}, '8': {'positions': [33, 99, 135], 'tf': 3}, '9': {'positions': [81], 'tf': 1}}, 'df': 5}, 'فصل': {'docs': {'1': {'positions': [75], 'tf': 1}, '9': {'positions': [32], 'tf': 1}}, 'df': 2}, 'گذشته': {'docs': {'1': {'positions': [76], 'tf': 1}}, 'df': 1}, 'قهرمان': {'docs': {'1': {'positions': [81], 'tf': 1}, '3': {'positions': [198], 'tf': 1}}, 'df': 2}, 'جام': {'docs': {'1': {'positions': [82], 'tf': 1}, '3': {'positions': [8], 'tf': 1}}, 'df': 2}, 'حذفی': {'docs': {'1': {'positions': [83], 'tf': 1}}, 'df': 1}, 'شود': {'docs': {'1': {'positions': [84], 'tf': 1}, '3': {'positions': [199], 'tf': 1}, '6': {'positions': [189], 'tf': 1}, '9': {'positions': [38, 95], 'tf': 2}}, 'df': 4}, 'شاخص': {'docs': {'2': {'positions': [0, 5, 24, 41, 58, 75, 94, 114], 'tf': 8}}, 'df': 1}, 'بورس': {'docs': {'2': {'positions': [1, 168], 'tf': 2}, '6': {'positions': [100], 'tf': 1}}, 'df': 2}, 'بازهم': {'docs': {'2': {'positions': [2], 'tf': 1}}, 'df': 1}, 'قرمز': {'docs': {'2': {'positions': [3], 'tf': 1}}, 'df': 1}, 'کل': {'docs': {'2': {'positions': [6, 42], 'tf': 2}, '6': {'positions': [11, 27], 'tf': 2}, '10': {'positions': [14], 'tf': 1}}, 'df': 3}, '5246': {'docs': {'2': {'positions': [8], 'tf': 1}}, 'df': 1}, 'واحد': {'docs': {'2': {'positions': [9, 30, 47, 64, 80, 99, 112, 119, 133], 'tf': 9}}, 'df': 1}, 'کاهش': {'docs': {'2': {'positions': [10, 31, 120], 'tf': 3}, '4': {'positions': [29, 68], 'tf': 2}, '6': {'positions': [199], 'tf': 1}, '8': {'positions': [57], 'tf': 1}}, 'df': 4}, 'معادل': {'docs': {'2': {'positions': [11, 32, 49, 66, 82, 101, 121], 'tf': 7}}, 'df': 1}, 'منفی': {'docs': {'2': {'positions': [12, 122], 'tf': 2}}, 'df': 1}, '035': {'docs': {'2': {'positions': [13, 33], 'tf': 2}}, 'df': 1}, 'درصد': {'docs': {'2': {'positions': [14, 34, 51, 68, 84, 103, 124], 'tf': 7}, '3': {'positions': [91], 'tf': 1}, '6': {'positions': [15, 32], 'tf': 2}}, 'df': 3}, 'میلیون': {'docs': {'2': {'positions': [17, 87, 106, 127, 145, 155], 'tf': 6}, '6': {'positions': [53], 'tf': 1}}, 'df': 2}, '507': {'docs': {'2': {'positions': [19], 'tf': 1}}, 'df': 1}, 'هزار': {'docs': {'2': {'positions': [20, 37, 54, 71, 90, 109, 130, 148, 162], 'tf': 9}, '4': {'positions': [59, 74, 83, 105, 112, 119, 126, 139, 146, 154, 162, 170, 177, 185, 197, 205, 212, 223, 231, 242, 248, 255, 262, 270, 278, 291, 303, 310, 317, 325, 332, 337, 342, 349, 357, 364, 369, 373, 385, 391, 399, 406, 414, 423], 'tf': 44}, '6': {'positions': [19, 35, 47, 89, 107, 120], 'tf': 6}, '8': {'positions': [128], 'tf': 1}, '10': {'positions': [103], 'tf': 1}}, 'df': 5}, '645': {'docs': {'2': {'positions': [22], 'tf': 1}}, 'df': 1}, 'واحد،': {'docs': {'2': {'positions': [23, 40, 57, 74, 93], 'tf': 5}}, 'df': 1}, 'قیمت': {'docs': {'2': {'positions': [25, 59], 'tf': 2}, '4': {'positions': [61, 72, 188], 'tf': 3}, '6': {'positions': [57], 'tf': 1}, '8': {'positions': [4, 23, 55, 102, 106, 123], 'tf': 6}}, 'df': 4}, 'وزنی': {'docs': {'2': {'positions': [26], 'tf': 1}}, 'df': 1}, 'ارزشی': {'docs': {'2': {'positions': [27], 'tf': 1}}, 'df': 1}, '1372': {'docs': {'2': {'positions': [29], 'tf': 1}}, 'df': 1}, '394': {'docs': {'2': {'positions': [36], 'tf': 1}}, 'df': 1}, '278': {'docs': {'2': {'positions': [39], 'tf': 1}}, 'df': 1}, 'وزن': {'docs': {'2': {'positions': [44, 61], 'tf': 2}}, 'df': 1}, '1688': {'docs': {'2': {'positions': [46], 'tf': 1}}, 'df': 1}, 'افزایش': {'docs': {'2': {'positions': [48, 65, 81, 100], 'tf': 4}, '4': {'positions': [25], 'tf': 1}, '6': {'positions': [22, 92, 123, 130], 'tf': 4}}, 'df': 3}, '038': {'docs': {'2': {'positions': [50, 67], 'tf': 2}}, 'df': 1}, '444': {'docs': {'2': {'positions': [53], 'tf': 1}}, 'df': 1}, '424': {'docs': {'2': {'positions': [56], 'tf': 1}}, 'df': 1}, '1105': {'docs': {'2': {'positions': [63], 'tf': 1}}, 'df': 1}, '291': {'docs': {'2': {'positions': [70], 'tf': 1}}, 'df': 1}, '16': {'docs': {'2': {'positions': [73], 'tf': 1}}, 'df': 1}, 'آزاد': {'docs': {'2': {'positions': [76], 'tf': 1}}, 'df': 1}, 'شناور': {'docs': {'2': {'positions': [77], 'tf': 1}}, 'df': 1}, '7053': {'docs': {'2': {'positions': [79], 'tf': 1}}, 'df': 1}, '034': {'docs': {'2': {'positions': [83], 'tf': 1}}, 'df': 1}, 'دو': {'docs': {'2': {'positions': [86, 144], 'tf': 2}, '4': {'positions': [114], 'tf': 1}}, 'df': 2}, '72': {'docs': {'2': {'positions': [89], 'tf': 1}}, 'df': 1}, '3': {'docs': {'2': {'positions': [92, 126], 'tf': 2}}, 'df': 1}, 'بازار': {'docs': {'2': {'positions': [95, 115], 'tf': 2}, '10': {'positions': [142], 'tf': 1}}, 'df': 2}, 'اول': {'docs': {'2': {'positions': [96], 'tf': 1}}, 'df': 1}, '5910': {'docs': {'2': {'positions': [98], 'tf': 1}}, 'df': 1}, '053': {'docs': {'2': {'positions': [102], 'tf': 1}}, 'df': 1}, '116': {'docs': {'2': {'positions': [108], 'tf': 1}}, 'df': 1}, '121': {'docs': {'2': {'positions': [111], 'tf': 1}}, 'df': 1}, 'دوم': {'docs': {'2': {'positions': [116, 137], 'tf': 2}}, 'df': 1}, '45243': {'docs': {'2': {'positions': [118], 'tf': 1}}, 'df': 1}, '148': {'docs': {'2': {'positions': [123], 'tf': 1}}, 'df': 1}, '2': {'docs': {'2': {'positions': [129], 'tf': 1}}, 'df': 1}, '689': {'docs': {'2': {'positions': [132], 'tf': 1}}, 'df': 1}, 'رسید': {'docs': {'2': {'positions': [134], 'tf': 1}, '5': {'positions': [47, 83], 'tf': 2}}, 'df': 2}, 'نیمه': {'docs': {'2': {'positions': [136], 'tf': 1}}, 'df': 1}, 'داد': {'docs': {'2': {'positions': [138], 'tf': 1}, '7': {'positions': [54], 'tf': 1}}, 'df': 2}, 'ستدهای': {'docs': {'2': {'positions': [140], 'tf': 1}}, 'df': 1}, 'امروز': {'docs': {'2': {'positions': [141], 'tf': 1}, '4': {'positions': [15, 45], 'tf': 2}, '5': {'positions': [62], 'tf': 1}, '8': {'positions': [120], 'tf': 1}}, 'df': 4}, 'بورس،': {'docs': {'2': {'positions': [142], 'tf': 1}}, 'df': 1}, '96': {'docs': {'2': {'positions': [147], 'tf': 1}}, 'df': 1}, 'نوبت': {'docs': {'2': {'positions': [149], 'tf': 1}}, 'df': 1}, 'معاملاتی،': {'docs': {'2': {'positions': [150], 'tf': 1}}, 'df': 1}, '14': {'docs': {'2': {'positions': [151], 'tf': 1}}, 'df': 1}, 'میلیارد': {'docs': {'2': {'positions': [152, 165], 'tf': 2}, '6': {'positions': [20, 36, 90, 108, 121], 'tf': 5}}, 'df': 2}, '142': {'docs': {'2': {'positions': [154], 'tf': 1}}, 'df': 1}, 'برگه': {'docs': {'2': {'positions': [156], 'tf': 1}}, 'df': 1}, 'اوراق': {'docs': {'2': {'positions': [157], 'tf': 1}}, 'df': 1}, 'بهادار': {'docs': {'2': {'positions': [158], 'tf': 1}}, 'df': 1}, 'ارزش': {'docs': {'2': {'positions': [160], 'tf': 1}, '4': {'positions': [427], 'tf': 1}}, 'df': 2}, '136': {'docs': {'2': {'positions': [161], 'tf': 1}}, 'df': 1}, '846': {'docs': {'2': {'positions': [164], 'tf': 1}}, 'df': 1}, 'ریال': {'docs': {'2': {'positions': [166], 'tf': 1}, '4': {'positions': [60, 77, 86, 95, 174, 180, 187, 220, 245, 285, 294, 417, 426], 'tf': 13}}, 'df': 2}, 'معامله': {'docs': {'2': {'positions': [169], 'tf': 1}}, 'df': 1}, 'علی': {'docs': {'3': {'positions': [0], 'tf': 1}}, 'df': 1}, 'دایی': {'docs': {'3': {'positions': [1, 19], 'tf': 2}}, 'df': 1}, 'درباره': {'docs': {'3': {'positions': [2], 'tf': 1}, '7': {'positions': [38], 'tf': 1}, '8': {'positions': [22], 'tf': 1}, '10': {'positions': [70], 'tf': 1}}, 'df': 4}, 'شانس': {'docs': {'3': {'positions': [3, 92], 'tf': 2}}, 'df': 1}, 'پرسپولیس': {'docs': {'3': {'positions': [4, 42, 62, 89, 109, 195, 216], 'tf': 7}, '5': {'positions': [16, 58, 80, 85], 'tf': 4}, '9': {'positions': [30, 92], 'tf': 2}}, 'df': 3}, 'راه': {'docs': {'3': {'positions': [6], 'tf': 1}}, 'df': 1}, 'قهرمانی': {'docs': {'3': {'positions': [9, 23, 57, 64, 94, 215], 'tf': 6}, '9': {'positions': [28], 'tf': 1}}, 'df': 2}, 'قهرمانان': {'docs': {'3': {'positions': [11], 'tf': 1}, '9': {'positions': [10], 'tf': 1}}, 'df': 2}, 'آسیا': {'docs': {'3': {'positions': [12, 24, 48], 'tf': 3}, '9': {'positions': [65], 'tf': 1}}, 'df': 2}, 'صحبت': {'docs': {'3': {'positions': [13], 'tf': 1}}, 'df': 1}, 'کرد': {'docs': {'3': {'positions': [14], 'tf': 1}, '4': {'positions': [17], 'tf': 1}, '7': {'positions': [7], 'tf': 1}, '10': {'positions': [172], 'tf': 1}}, 'df': 4}, 'سرخپوشان': {'docs': {'3': {'positions': [20], 'tf': 1}, '9': {'positions': [78], 'tf': 1}}, 'df': 2}, 'شایسته': {'docs': {'3': {'positions': [22], 'tf': 1}}, 'df': 1}, 'دانست': {'docs': {'3': {'positions': [25], 'tf': 1}, '7': {'positions': [131], 'tf': 1}}, 'df': 2}, 'اما': {'docs': {'3': {'positions': [26], 'tf': 1}}, 'df': 1}, 'ضعف': {'docs': {'3': {'positions': [28], 'tf': 1}}, 'df': 1}, 'برای': {'docs': {'3': {'positions': [32, 93, 127, 205], 'tf': 4}, '4': {'positions': [14, 44], 'tf': 2}, '7': {'positions': [10], 'tf': 1}, '8': {'positions': [44, 96], 'tf': 2}, '9': {'positions': [91], 'tf': 1}}, 'df': 5}, 'فینال': {'docs': {'3': {'positions': [35, 47], 'tf': 2}, '9': {'positions': [23], 'tf': 1}}, 'df': 2}, 'دیده': {'docs': {'3': {'positions': [36], 'tf': 1}}, 'df': 1}, 'فکر': {'docs': {'3': {'positions': [38, 192], 'tf': 2}}, 'df': 1}, 'می': {'docs': {'3': {'positions': [39, 50, 86, 103, 164, 182, 193, 196], 'tf': 8}, '6': {'positions': [188], 'tf': 1}, '7': {'positions': [82], 'tf': 1}, '9': {'positions': [15, 37, 84], 'tf': 3}, '10': {'positions': [22, 112], 'tf': 2}}, 'df': 5}, 'کنید': {'docs': {'3': {'positions': [40], 'tf': 1}}, 'df': 1}, 'که': {'docs': {'3': {'positions': [43, 88, 108, 126, 142, 154, 166, 171, 202, 214], 'tf': 10}, '4': {'positions': [18, 89], 'tf': 2}, '5': {'positions': [19, 72], 'tf': 2}, '6': {'positions': [157], 'tf': 1}, '7': {'positions': [8, 71], 'tf': 2}, '8': {'positions': [50, 68, 90], 'tf': 3}, '9': {'positions': [17, 100], 'tf': 2}, '10': {'positions': [24, 47, 94, 114, 121, 141, 150, 155], 'tf': 8}}, 'df': 8}, 'آستانه': {'docs': {'3': {'positions': [45], 'tf': 1}}, 'df': 1}, 'برگزاری': {'docs': {'3': {'positions': [46], 'tf': 1}, '7': {'positions': [39, 49], 'tf': 2}}, 'df': 2}, 'تواند': {'docs': {'3': {'positions': [51, 197], 'tf': 2}}, 'df': 1}, 'یحیی': {'docs': {'3': {'positions': [54], 'tf': 1}, '5': {'positions': [1], 'tf': 1}}, 'df': 2}, 'پیدا': {'docs': {'3': {'positions': [59], 'tf': 1}}, 'df': 1}, 'کند؟': {'docs': {'3': {'positions': [60], 'tf': 1}}, 'df': 1}, 'بله': {'docs': {'3': {'positions': [61, 105], 'tf': 2}}, 'df': 1}, 'پتانسیل': {'docs': {'3': {'positions': [63], 'tf': 1}}, 'df': 1}, 'دارد': {'docs': {'3': {'positions': [66, 77, 95], 'tf': 3}, '4': {'positions': [97], 'tf': 1}, '10': {'positions': [12], 'tf': 1}}, 'df': 3}, 'ولی': {'docs': {'3': {'positions': [67, 135, 188], 'tf': 3}}, 'df': 1}, 'متاسفانه': {'docs': {'3': {'positions': [68], 'tf': 1}}, 'df': 1}, 'نظر': {'docs': {'3': {'positions': [70], 'tf': 1}, '7': {'positions': [81], 'tf': 1}}, 'df': 2}, 'من': {'docs': {'3': {'positions': [71], 'tf': 1}}, 'df': 1}, 'فوروارد': {'docs': {'3': {'positions': [73], 'tf': 1}}, 'df': 1}, 'تمام': {'docs': {'3': {'positions': [74, 146], 'tf': 2}}, 'df': 1}, 'کننده': {'docs': {'3': {'positions': [75], 'tf': 1}}, 'df': 1}, 'کم': {'docs': {'3': {'positions': [76], 'tf': 1}, '9': {'positions': [97], 'tf': 1}}, 'df': 2}, 'اگر': {'docs': {'3': {'positions': [78, 160], 'tf': 2}}, 'df': 1}, 'آقای': {'docs': {'3': {'positions': [79], 'tf': 1}}, 'df': 1}, 'آل': {'docs': {'3': {'positions': [80, 98], 'tf': 2}}, 'df': 1}, 'کثیر': {'docs': {'3': {'positions': [81, 99], 'tf': 2}}, 'df': 1}, 'محروم': {'docs': {'3': {'positions': [82], 'tf': 1}}, 'df': 1}, 'نمی': {'docs': {'3': {'positions': [83], 'tf': 1}, '10': {'positions': [6, 52], 'tf': 2}}, 'df': 2}, 'مطمئنا': {'docs': {'3': {'positions': [85, 106], 'tf': 2}}, 'df': 1}, 'گفتم': {'docs': {'3': {'positions': [87], 'tf': 1}}, 'df': 1}, '۸۰': {'docs': {'3': {'positions': [90], 'tf': 1}}, 'df': 1}, 'یعنی': {'docs': {'3': {'positions': [96], 'tf': 1}}, 'df': 1}, 'غیبت': {'docs': {'3': {'positions': [97], 'tf': 1}}, 'df': 1}, 'انقدر': {'docs': {'3': {'positions': [101], 'tf': 1}}, 'df': 1}, 'موثر': {'docs': {'3': {'positions': [102], 'tf': 1}}, 'df': 1}, 'دانید؟': {'docs': {'3': {'positions': [104], 'tf': 1}}, 'df': 1}, 'چرا': {'docs': {'3': {'positions': [107, 213], 'tf': 2}, '8': {'positions': [3], 'tf': 1}}, 'df': 2}, 'چند': {'docs': {'3': {'positions': [111, 169], 'tf': 2}, '9': {'positions': [106], 'tf': 1}}, 'df': 2}, 'مدت': {'docs': {'3': {'positions': [112], 'tf': 1}}, 'df': 1}, 'اخیر': {'docs': {'3': {'positions': [113], 'tf': 1}}, 'df': 1}, 'علیپور،': {'docs': {'3': {'positions': [114], 'tf': 1}}, 'df': 1}, 'طارمی': {'docs': {'3': {'positions': [115], 'tf': 1}}, 'df': 1}, 'ترابی': {'docs': {'3': {'positions': [117], 'tf': 1}}, 'df': 1}, 'داده': {'docs': {'3': {'positions': [122], 'tf': 1}, '8': {'positions': [88], 'tf': 1}, '9': {'positions': [133], 'tf': 1}, '10': {'positions': [91], 'tf': 1}}, 'df': 4}, 'احترامی': {'docs': {'3': {'positions': [125], 'tf': 1}}, 'df': 1}, 'تمامی': {'docs': {'3': {'positions': [128], 'tf': 1}}, 'df': 1}, 'بازیکن': {'docs': {'3': {'positions': [129, 185], 'tf': 2}}, 'df': 1}, 'های': {'docs': {'3': {'positions': [130], 'tf': 1}, '6': {'positions': [71, 131, 196], 'tf': 3}, '9': {'positions': [4, 8, 57], 'tf': 3}}, 'df': 3}, 'فورواردهایش': {'docs': {'3': {'positions': [133], 'tf': 1}}, 'df': 1}, 'قائلم،': {'docs': {'3': {'positions': [134], 'tf': 1}}, 'df': 1}, 'حال': {'docs': {'3': {'positions': [137, 191], 'tf': 2}, '8': {'positions': [42], 'tf': 1}, '10': {'positions': [108, 163], 'tf': 2}}, 'df': 3}, 'حاضر': {'docs': {'3': {'positions': [138], 'tf': 1}, '9': {'positions': [5], 'tf': 1}}, 'df': 2}, 'فورواردی': {'docs': {'3': {'positions': [141], 'tf': 1}}, 'df': 1}, 'بتواند': {'docs': {'3': {'positions': [143], 'tf': 1}}, 'df': 1}, 'کار': {'docs': {'3': {'positions': [144], 'tf': 1}}, 'df': 1}, 'کند': {'docs': {'3': {'positions': [147], 'tf': 1}}, 'df': 1}, 'حد': {'docs': {'3': {'positions': [150], 'tf': 1}}, 'df': 1}, 'اندازه': {'docs': {'3': {'positions': [152], 'tf': 1}}, 'df': 1}, 'نفراتی': {'docs': {'3': {'positions': [153], 'tf': 1}}, 'df': 1}, 'بردم': {'docs': {'3': {'positions': [156], 'tf': 1}}, 'df': 1}, 'باشد': {'docs': {'3': {'positions': [157], 'tf': 1}}, 'df': 1}, 'وجود': {'docs': {'3': {'positions': [158], 'tf': 1}, '7': {'positions': [20], 'tf': 1}, '9': {'positions': [119], 'tf': 1}}, 'df': 3}, 'ندارد': {'docs': {'3': {'positions': [159], 'tf': 1}, '7': {'positions': [21], 'tf': 1}}, 'df': 2}, 'دقت': {'docs': {'3': {'positions': [161], 'tf': 1}}, 'df': 1}, 'کرده': {'docs': {'3': {'positions': [162], 'tf': 1}}, 'df': 1}, 'باشید': {'docs': {'3': {'positions': [163], 'tf': 1}}, 'df': 1}, 'بینید': {'docs': {'3': {'positions': [165], 'tf': 1}}, 'df': 1}, 'عیسی': {'docs': {'3': {'positions': [167], 'tf': 1}}, 'df': 1}, 'بازی': {'docs': {'3': {'positions': [170], 'tf': 1}, '9': {'positions': [7, 22], 'tf': 2}}, 'df': 2}, 'حضور': {'docs': {'3': {'positions': [172], 'tf': 1}, '7': {'positions': [11, 92], 'tf': 2}}, 'df': 2}, 'داشت': {'docs': {'3': {'positions': [173], 'tf': 1}, '6': {'positions': [151, 181], 'tf': 2}, '10': {'positions': [79], 'tf': 1}}, 'df': 3}, 'تنه': {'docs': {'3': {'positions': [175], 'tf': 1}}, 'df': 1}, 'جور': {'docs': {'3': {'positions': [176], 'tf': 1}}, 'df': 1}, 'خط': {'docs': {'3': {'positions': [177], 'tf': 1}, '5': {'positions': [23], 'tf': 1}}, 'df': 2}, 'حمله': {'docs': {'3': {'positions': [178], 'tf': 1}, '5': {'positions': [24], 'tf': 1}}, 'df': 2}, 'دوش': {'docs': {'3': {'positions': [181], 'tf': 1}}, 'df': 1}, 'کشید': {'docs': {'3': {'positions': [183], 'tf': 1}}, 'df': 1}, 'خیلی': {'docs': {'3': {'positions': [184], 'tf': 1}}, 'df': 1}, 'موثری': {'docs': {'3': {'positions': [186], 'tf': 1}}, 'df': 1}, 'کنم': {'docs': {'3': {'positions': [194, 212], 'tf': 2}}, 'df': 1}, 'دوست': {'docs': {'3': {'positions': [200], 'tf': 1}}, 'df': 1}, 'دارم': {'docs': {'3': {'positions': [201], 'tf': 1}}, 'df': 1}, 'اینجا': {'docs': {'3': {'positions': [204], 'tf': 1}}, 'df': 1}, 'کادرفنی': {'docs': {'3': {'positions': [206], 'tf': 1}}, 'df': 1}, 'بازیکنان': {'docs': {'3': {'positions': [208], 'tf': 1}, '9': {'positions': [109], 'tf': 1}}, 'df': 2}, 'آرزوی': {'docs': {'3': {'positions': [210, 217], 'tf': 2}}, 'df': 1}, 'موفقیت': {'docs': {'3': {'positions': [211], 'tf': 1}}, 'df': 1}, 'همه': {'docs': {'3': {'positions': [218], 'tf': 1}}, 'df': 1}, 'ما': {'docs': {'3': {'positions': [219], 'tf': 1}}, 'df': 1}, 'نرخ': {'docs': {'4': {'positions': [0, 9, 22, 31, 193, 298], 'tf': 6}, '10': {'positions': [99], 'tf': 1}}, 'df': 2}, 'رسمی': {'docs': {'4': {'positions': [1, 10], 'tf': 2}, '7': {'positions': [119], 'tf': 1}}, 'df': 2}, 'انواع': {'docs': {'4': {'positions': [2], 'tf': 1}}, 'df': 1}, 'ارز': {'docs': {'4': {'positions': [3, 12, 24, 28, 33], 'tf': 5}, '10': {'positions': [143], 'tf': 1}}, 'df': 2}, 'بانک': {'docs': {'4': {'positions': [5, 7, 39], 'tf': 3}, '8': {'positions': [37], 'tf': 1}, '10': {'positions': [15, 80], 'tf': 2}}, 'df': 3}, 'مرکزی': {'docs': {'4': {'positions': [6, 8, 40], 'tf': 3}, '10': {'positions': [16, 81], 'tf': 2}}, 'df': 2}, '۴۷': {'docs': {'4': {'positions': [11, 104], 'tf': 2}}, 'df': 1}, 'اعلام': {'docs': {'4': {'positions': [16, 38, 87], 'tf': 3}, '7': {'positions': [6], 'tf': 1}, '10': {'positions': [18], 'tf': 1}}, 'df': 3}, 'بر': {'docs': {'4': {'positions': [19, 99], 'tf': 2}}, 'df': 1}, 'اساس': {'docs': {'4': {'positions': [20], 'tf': 1}}, 'df': 1}, 'آن': {'docs': {'4': {'positions': [21], 'tf': 1}, '6': {'positions': [155], 'tf': 1}, '9': {'positions': [27, 128], 'tf': 2}}, 'df': 3}, '۱۲': {'docs': {'4': {'positions': [23, 363, 422], 'tf': 3}}, 'df': 1}, '۲۲': {'docs': {'4': {'positions': [27], 'tf': 1}, '10': {'positions': [34, 131], 'tf': 2}}, 'df': 2}, 'یافت': {'docs': {'4': {'positions': [30], 'tf': 1}}, 'df': 1}, '۱۳': {'docs': {'4': {'positions': [32], 'tf': 1}}, 'df': 1}, 'نیز': {'docs': {'4': {'positions': [34], 'tf': 1}, '6': {'positions': [29], 'tf': 1}}, 'df': 2}, 'ثابت': {'docs': {'4': {'positions': [35], 'tf': 1}}, 'df': 1}, 'ماند': {'docs': {'4': {'positions': [36], 'tf': 1}}, 'df': 1}, 'براساس': {'docs': {'4': {'positions': [37], 'tf': 1}, '7': {'positions': [56], 'tf': 1}, '10': {'positions': [86], 'tf': 1}}, 'df': 3}, 'هر': {'docs': {'4': {'positions': [41, 64, 79, 101], 'tf': 4}, '7': {'positions': [69], 'tf': 1}, '8': {'positions': [60, 115, 117], 'tf': 3}, '9': {'positions': [34], 'tf': 1}}, 'df': 4}, 'دلار': {'docs': {'4': {'positions': [42, 166, 182, 194, 239, 259], 'tf': 6}, '6': {'positions': [58], 'tf': 1}, '10': {'positions': [8, 100], 'tf': 2}}, 'df': 3}, 'آمریکا': {'docs': {'4': {'positions': [43], 'tf': 1}}, 'df': 1}, 'سه': {'docs': {'4': {'positions': [46], 'tf': 1}}, 'df': 1}, 'شنبه': {'docs': {'4': {'positions': [47], 'tf': 1}, '7': {'positions': [32], 'tf': 1}}, 'df': 2}, 'هجدهم': {'docs': {'4': {'positions': [48], 'tf': 1}}, 'df': 1}, 'آذر': {'docs': {'4': {'positions': [49], 'tf': 1}}, 'df': 1}, 'ماه': {'docs': {'4': {'positions': [50], 'tf': 1}}, 'df': 1}, '۹۹': {'docs': {'4': {'positions': [51, 76], 'tf': 2}}, 'df': 1}, 'بدون': {'docs': {'4': {'positions': [52], 'tf': 1}}, 'df': 1}, 'تغییر': {'docs': {'4': {'positions': [53], 'tf': 1}}, 'df': 1}, 'نسبت': {'docs': {'4': {'positions': [54, 90], 'tf': 2}}, 'df': 1}, 'روز': {'docs': {'4': {'positions': [56, 92], 'tf': 2}, '6': {'positions': [50], 'tf': 1}}, 'df': 2}, 'گذشته،': {'docs': {'4': {'positions': [57], 'tf': 1}}, 'df': 1}, '۴۲': {'docs': {'4': {'positions': [58], 'tf': 1}}, 'df': 1}, 'خورد': {'docs': {'4': {'positions': [62, 189], 'tf': 2}}, 'df': 1}, 'همچنین': {'docs': {'4': {'positions': [63], 'tf': 1}, '6': {'positions': [95], 'tf': 1}}, 'df': 2}, 'پوند': {'docs': {'4': {'positions': [65], 'tf': 1}}, 'df': 1}, 'انگلیس': {'docs': {'4': {'positions': [66], 'tf': 1}}, 'df': 1}, '۲۸۴': {'docs': {'4': {'positions': [69], 'tf': 1}}, 'df': 1}, 'ریالی': {'docs': {'4': {'positions': [70], 'tf': 1}}, 'df': 1}, '۵۶': {'docs': {'4': {'positions': [73], 'tf': 1}}, 'df': 1}, 'یورو': {'docs': {'4': {'positions': [80], 'tf': 1}}, 'df': 1}, 'نیز،': {'docs': {'4': {'positions': [81], 'tf': 1}}, 'df': 1}, '۵۰': {'docs': {'4': {'positions': [82], 'tf': 1}}, 'df': 1}, '۸۸۵': {'docs': {'4': {'positions': [85], 'tf': 1}}, 'df': 1}, 'قبل،': {'docs': {'4': {'positions': [93], 'tf': 1}}, 'df': 1}, '۷۶': {'docs': {'4': {'positions': [94], 'tf': 1}}, 'df': 1}, 'افت': {'docs': {'4': {'positions': [96], 'tf': 1}}, 'df': 1}, 'افزون': {'docs': {'4': {'positions': [98], 'tf': 1}}, 'df': 1}, 'این،': {'docs': {'4': {'positions': [100], 'tf': 1}}, 'df': 1}, 'فرانک': {'docs': {'4': {'positions': [102], 'tf': 1}}, 'df': 1}, 'سوئیس': {'docs': {'4': {'positions': [103], 'tf': 1}}, 'df': 1}, '۱۳۹': {'docs': {'4': {'positions': [107, 324], 'tf': 2}}, 'df': 1}, 'ریال،': {'docs': {'4': {'positions': [108, 115, 122, 129, 133, 142, 149, 157, 165, 173, 200, 208, 215, 219, 226, 234, 238, 244, 251, 258, 265, 273, 281, 306, 313, 320, 328, 335, 345, 352, 360, 367, 376, 380, 387, 394, 402, 409], 'tf': 38}}, 'df': 1}, 'کرون': {'docs': {'4': {'positions': [109, 116, 123], 'tf': 3}}, 'df': 1}, 'سوئد': {'docs': {'4': {'positions': [110], 'tf': 1}}, 'df': 1}, 'نروژ': {'docs': {'4': {'positions': [117], 'tf': 1}}, 'df': 1}, '۴': {'docs': {'4': {'positions': [118, 413], 'tf': 2}}, 'df': 1}, '۸۰۹': {'docs': {'4': {'positions': [121], 'tf': 1}}, 'df': 1}, 'دانمارک': {'docs': {'4': {'positions': [124], 'tf': 1}}, 'df': 1}, '۶': {'docs': {'4': {'positions': [125, 316], 'tf': 2}}, 'df': 1}, '۸۳۶': {'docs': {'4': {'positions': [128], 'tf': 1}}, 'df': 1}, 'روپیه': {'docs': {'4': {'positions': [130, 151, 275, 288, 370], 'tf': 5}}, 'df': 1}, 'هند': {'docs': {'4': {'positions': [131], 'tf': 1}}, 'df': 1}, '۵۶۹': {'docs': {'4': {'positions': [132], 'tf': 1}}, 'df': 1}, 'درهم': {'docs': {'4': {'positions': [134], 'tf': 1}}, 'df': 1}, 'امارات': {'docs': {'4': {'positions': [135], 'tf': 1}}, 'df': 1}, 'متحده': {'docs': {'4': {'positions': [136], 'tf': 1}}, 'df': 1}, 'عربی': {'docs': {'4': {'positions': [137], 'tf': 1}}, 'df': 1}, '۱۱': {'docs': {'4': {'positions': [138, 222, 247], 'tf': 3}}, 'df': 1}, '۴۳۷': {'docs': {'4': {'positions': [141], 'tf': 1}}, 'df': 1}, 'دینار': {'docs': {'4': {'positions': [143, 228, 252, 307, 346], 'tf': 5}}, 'df': 1}, 'کویت': {'docs': {'4': {'positions': [144], 'tf': 1}}, 'df': 1}, '۱۳۷': {'docs': {'4': {'positions': [145], 'tf': 1}}, 'df': 1}, '۹۲۶': {'docs': {'4': {'positions': [148], 'tf': 1}}, 'df': 1}, 'یکصد': {'docs': {'4': {'positions': [150, 158, 227, 266, 287, 299, 321, 353, 395], 'tf': 9}}, 'df': 1}, 'پاکستان': {'docs': {'4': {'positions': [152], 'tf': 1}}, 'df': 1}, '۲۶': {'docs': {'4': {'positions': [153], 'tf': 1}}, 'df': 1}, '۲۱۶': {'docs': {'4': {'positions': [156], 'tf': 1}}, 'df': 1}, 'ین': {'docs': {'4': {'positions': [159], 'tf': 1}}, 'df': 1}, 'ژاپن': {'docs': {'4': {'positions': [160], 'tf': 1}}, 'df': 1}, '۴۰': {'docs': {'4': {'positions': [161], 'tf': 1}, '8': {'positions': [127], 'tf': 1}}, 'df': 2}, '۳۷۱': {'docs': {'4': {'positions': [164], 'tf': 1}}, 'df': 1}, 'هنگ': {'docs': {'4': {'positions': [167], 'tf': 1}}, 'df': 1}, 'کنگ': {'docs': {'4': {'positions': [168], 'tf': 1}}, 'df': 1}, '۴۱۹': {'docs': {'4': {'positions': [172], 'tf': 1}}, 'df': 1}, 'عمان': {'docs': {'4': {'positions': [175], 'tf': 1}}, 'df': 1}, '۱۰۹': {'docs': {'4': {'positions': [176], 'tf': 1}}, 'df': 1}, '۲۳۱': {'docs': {'4': {'positions': [179], 'tf': 1}}, 'df': 1}, 'کانادا': {'docs': {'4': {'positions': [183], 'tf': 1}}, 'df': 1}, '۳۲': {'docs': {'4': {'positions': [184, 284], 'tf': 2}}, 'df': 1}, '۸۳۹': {'docs': {'4': {'positions': [186], 'tf': 1}}, 'df': 1}, 'سوی': {'docs': {'4': {'positions': [191], 'tf': 1}}, 'df': 1}, 'دیگر،': {'docs': {'4': {'positions': [192], 'tf': 1}}, 'df': 1}, 'نیوزیلند': {'docs': {'4': {'positions': [195], 'tf': 1}}, 'df': 1}, '۲۹': {'docs': {'4': {'positions': [196], 'tf': 1}}, 'df': 1}, '۵۵۳': {'docs': {'4': {'positions': [199], 'tf': 1}}, 'df': 1}, 'راند': {'docs': {'4': {'positions': [201], 'tf': 1}}, 'df': 1}, 'آفریقای': {'docs': {'4': {'positions': [202], 'tf': 1}}, 'df': 1}, 'جنوبی': {'docs': {'4': {'positions': [203, 340], 'tf': 2}}, 'df': 1}, '۲': {'docs': {'4': {'positions': [204, 277, 372], 'tf': 3}}, 'df': 1}, '۷۷۲': {'docs': {'4': {'positions': [207], 'tf': 1}}, 'df': 1}, 'لیر': {'docs': {'4': {'positions': [209, 235], 'tf': 2}}, 'df': 1}, 'ترکیه': {'docs': {'4': {'positions': [210], 'tf': 1}}, 'df': 1}, '۳۷۷': {'docs': {'4': {'positions': [214], 'tf': 1}}, 'df': 1}, 'روبل': {'docs': {'4': {'positions': [216, 381], 'tf': 2}}, 'df': 1}, 'روسیه': {'docs': {'4': {'positions': [217], 'tf': 1}}, 'df': 1}, '۵۷۰': {'docs': {'4': {'positions': [218], 'tf': 1}}, 'df': 1}, 'قطر': {'docs': {'4': {'positions': [221], 'tf': 1}}, 'df': 1}, '۵۳۹': {'docs': {'4': {'positions': [225], 'tf': 1}}, 'df': 1}, 'عراق': {'docs': {'4': {'positions': [229], 'tf': 1}}, 'df': 1}, '۳': {'docs': {'4': {'positions': [230, 405], 'tf': 2}}, 'df': 1}, '۵۲۶': {'docs': {'4': {'positions': [233], 'tf': 1}}, 'df': 1}, 'سوریه': {'docs': {'4': {'positions': [236], 'tf': 1}}, 'df': 1}, '۸۲': {'docs': {'4': {'positions': [237], 'tf': 1}}, 'df': 1}, 'استرالیا': {'docs': {'4': {'positions': [240], 'tf': 1}}, 'df': 1}, '۳۱': {'docs': {'4': {'positions': [241, 261, 309], 'tf': 3}}, 'df': 1}, '۱۸۷': {'docs': {'4': {'positions': [243], 'tf': 1}}, 'df': 1}, 'سعودی': {'docs': {'4': {'positions': [246], 'tf': 1}, '9': {'positions': [61], 'tf': 1}}, 'df': 2}, '۲۰۰': {'docs': {'4': {'positions': [250], 'tf': 1}}, 'df': 1}, 'بحرین': {'docs': {'4': {'positions': [253], 'tf': 1}}, 'df': 1}, '۱۱۱': {'docs': {'4': {'positions': [254], 'tf': 1}}, 'df': 1}, '۷۰۱': {'docs': {'4': {'positions': [257], 'tf': 1}}, 'df': 1}, 'سنگاپور': {'docs': {'4': {'positions': [260], 'tf': 1}}, 'df': 1}, '۴۲۵': {'docs': {'4': {'positions': [264], 'tf': 1}}, 'df': 1}, 'تاکای': {'docs': {'4': {'positions': [267], 'tf': 1}}, 'df': 1}, 'بنگلادش': {'docs': {'4': {'positions': [268], 'tf': 1}}, 'df': 1}, '۴۹': {'docs': {'4': {'positions': [269], 'tf': 1}}, 'df': 1}, '۶۱۹': {'docs': {'4': {'positions': [272], 'tf': 1}}, 'df': 1}, 'ده': {'docs': {'4': {'positions': [274], 'tf': 1}}, 'df': 1}, 'سریلانکا': {'docs': {'4': {'positions': [276], 'tf': 1}}, 'df': 1}, '۲۵۵': {'docs': {'4': {'positions': [280], 'tf': 1}}, 'df': 1}, 'کیات': {'docs': {'4': {'positions': [282], 'tf': 1}}, 'df': 1}, 'میانمار': {'docs': {'4': {'positions': [283], 'tf': 1}}, 'df': 1}, 'نپال': {'docs': {'4': {'positions': [289], 'tf': 1}}, 'df': 1}, '۳۵': {'docs': {'4': {'positions': [290], 'tf': 1}}, 'df': 1}, '۳۹۳': {'docs': {'4': {'positions': [293], 'tf': 1}}, 'df': 1}, 'تعیین': {'docs': {'4': {'positions': [295], 'tf': 1}}, 'df': 1}, 'همچنین،': {'docs': {'4': {'positions': [297], 'tf': 1}}, 'df': 1}, 'درام': {'docs': {'4': {'positions': [300], 'tf': 1}}, 'df': 1}, 'ارمنستان': {'docs': {'4': {'positions': [301], 'tf': 1}}, 'df': 1}, '۸': {'docs': {'4': {'positions': [302], 'tf': 1}}, 'df': 1}, '۷۲۱': {'docs': {'4': {'positions': [305, 393], 'tf': 2}}, 'df': 1}, 'لیبی': {'docs': {'4': {'positions': [308], 'tf': 1}}, 'df': 1}, '۲۲۲': {'docs': {'4': {'positions': [312], 'tf': 1}}, 'df': 1}, 'یوان': {'docs': {'4': {'positions': [314], 'tf': 1}}, 'df': 1}, 'چین': {'docs': {'4': {'positions': [315], 'tf': 1}}, 'df': 1}, '۴۲۶': {'docs': {'4': {'positions': [319], 'tf': 1}}, 'df': 1}, 'بات': {'docs': {'4': {'positions': [322], 'tf': 1}}, 'df': 1}, 'تایلند': {'docs': {'4': {'positions': [323], 'tf': 1}}, 'df': 1}, '۴۱۶': {'docs': {'4': {'positions': [327], 'tf': 1}}, 'df': 1}, 'رینگیت': {'docs': {'4': {'positions': [329], 'tf': 1}}, 'df': 1}, 'مالزی': {'docs': {'4': {'positions': [330], 'tf': 1}}, 'df': 1}, '۱۰': {'docs': {'4': {'positions': [331], 'tf': 1}}, 'df': 1}, '۳۲۲': {'docs': {'4': {'positions': [334], 'tf': 1}}, 'df': 1}, 'وون': {'docs': {'4': {'positions': [338], 'tf': 1}}, 'df': 1}, 'کره': {'docs': {'4': {'positions': [339], 'tf': 1}}, 'df': 1}, '۳۸': {'docs': {'4': {'positions': [341], 'tf': 1}}, 'df': 1}, '۷۴۶': {'docs': {'4': {'positions': [344], 'tf': 1}}, 'df': 1}, 'اردن': {'docs': {'4': {'positions': [347], 'tf': 1}}, 'df': 1}, '۵۹': {'docs': {'4': {'positions': [348], 'tf': 1}}, 'df': 1}, '۲۳۸': {'docs': {'4': {'positions': [351], 'tf': 1}}, 'df': 1}, 'تنگه': {'docs': {'4': {'positions': [354], 'tf': 1}}, 'df': 1}, 'قزاقستان': {'docs': {'4': {'positions': [355], 'tf': 1}}, 'df': 1}, '۹': {'docs': {'4': {'positions': [356], 'tf': 1}}, 'df': 1}, '۹۵۵': {'docs': {'4': {'positions': [359], 'tf': 1}}, 'df': 1}, 'لاری': {'docs': {'4': {'positions': [361], 'tf': 1}}, 'df': 1}, 'گرجستان': {'docs': {'4': {'positions': [362], 'tf': 1}}, 'df': 1}, '۸۲۵': {'docs': {'4': {'positions': [366], 'tf': 1}}, 'df': 1}, 'اندونزی': {'docs': {'4': {'positions': [371], 'tf': 1}}, 'df': 1}, '۹۷۲': {'docs': {'4': {'positions': [375], 'tf': 1}}, 'df': 1}, 'افغانی': {'docs': {'4': {'positions': [377], 'tf': 1}}, 'df': 1}, 'افغانستان': {'docs': {'4': {'positions': [378], 'tf': 1}}, 'df': 1}, '۵۴۶': {'docs': {'4': {'positions': [379], 'tf': 1}}, 'df': 1}, 'جدید': {'docs': {'4': {'positions': [382, 411, 420], 'tf': 3}}, 'df': 1}, 'بلاروس': {'docs': {'4': {'positions': [383], 'tf': 1}}, 'df': 1}, '۱۶': {'docs': {'4': {'positions': [384], 'tf': 1}}, 'df': 1}, '۳۷۵': {'docs': {'4': {'positions': [386], 'tf': 1}}, 'df': 1}, 'منات': {'docs': {'4': {'positions': [388, 419], 'tf': 2}}, 'df': 1}, 'آذربایجان': {'docs': {'4': {'positions': [389], 'tf': 1}}, 'df': 1}, '۲۴': {'docs': {'4': {'positions': [390], 'tf': 1}, '10': {'positions': [36, 133], 'tf': 2}}, 'df': 2}, 'پزوی': {'docs': {'4': {'positions': [396], 'tf': 1}}, 'df': 1}, 'فیلیپین': {'docs': {'4': {'positions': [397], 'tf': 1}}, 'df': 1}, '۸۷': {'docs': {'4': {'positions': [398], 'tf': 1}}, 'df': 1}, '۱۷۶': {'docs': {'4': {'positions': [401], 'tf': 1}}, 'df': 1}, 'سومونی': {'docs': {'4': {'positions': [403], 'tf': 1}}, 'df': 1}, 'تاجیکستان': {'docs': {'4': {'positions': [404], 'tf': 1}}, 'df': 1}, '۷۱۷': {'docs': {'4': {'positions': [408], 'tf': 1}}, 'df': 1}, 'بولیوار': {'docs': {'4': {'positions': [410], 'tf': 1}}, 'df': 1}, 'ونزوئلا': {'docs': {'4': {'positions': [412], 'tf': 1}}, 'df': 1}, '۲۰۶': {'docs': {'4': {'positions': [416], 'tf': 1}}, 'df': 1}, 'ترکمنستان': {'docs': {'4': {'positions': [421], 'tf': 1}}, 'df': 1}, '۱۱۶': {'docs': {'4': {'positions': [425], 'tf': 1}}, 'df': 1}, 'گذاری': {'docs': {'4': {'positions': [428], 'tf': 1}, '10': {'positions': [83], 'tf': 1}}, 'df': 2}, 'شاگردان': {'docs': {'5': {'positions': [0], 'tf': 1}}, 'df': 1}, 'گل': {'docs': {'5': {'positions': [2], 'tf': 1}}, 'df': 1}, 'محمدی': {'docs': {'5': {'positions': [3], 'tf': 1}}, 'df': 1}, 'شکست': {'docs': {'5': {'positions': [5], 'tf': 1}}, 'df': 1}, 'مهدی': {'docs': {'5': {'positions': [7], 'tf': 1}}, 'df': 1}, 'رحمتی': {'docs': {'5': {'positions': [8], 'tf': 1}}, 'df': 1}, 'هشت': {'docs': {'5': {'positions': [9], 'tf': 1}}, 'df': 1}, 'امتیازی': {'docs': {'5': {'positions': [10], 'tf': 1}}, 'df': 1}, 'شدند': {'docs': {'5': {'positions': [11], 'tf': 1}}, 'df': 1}, 'روزی': {'docs': {'5': {'positions': [18], 'tf': 1}}, 'df': 1}, 'باز': {'docs': {'5': {'positions': [20, 38], 'tf': 2}}, 'df': 1}, 'دچار': {'docs': {'5': {'positions': [25], 'tf': 1}}, 'df': 1}, 'مشکل': {'docs': {'5': {'positions': [26], 'tf': 1}}, 'df': 1}, 'گره': {'docs': {'5': {'positions': [29], 'tf': 1}}, 'df': 1}, 'گلزنی': {'docs': {'5': {'positions': [30], 'tf': 1}}, 'df': 1}, 'اش': {'docs': {'5': {'positions': [31, 37], 'tf': 2}}, 'df': 1}, 'توسط': {'docs': {'5': {'positions': [32], 'tf': 1}}, 'df': 1}, 'کاپیتان': {'docs': {'5': {'positions': [33], 'tf': 1}}, 'df': 1}, 'مدافع': {'docs': {'5': {'positions': [35], 'tf': 1}}, 'df': 1}, 'سالخورده': {'docs': {'5': {'positions': [36], 'tf': 1}}, 'df': 1}, 'شد،': {'docs': {'5': {'positions': [39], 'tf': 1}, '7': {'positions': [73], 'tf': 1}, '10': {'positions': [98], 'tf': 1}}, 'df': 3}, 'مقابل': {'docs': {'5': {'positions': [40], 'tf': 1}}, 'df': 1}, 'شهرخودرو': {'docs': {'5': {'positions': [42], 'tf': 1}}, 'df': 1}, 'مشهد': {'docs': {'5': {'positions': [43], 'tf': 1}}, 'df': 1}, 'برتری': {'docs': {'5': {'positions': [45, 77], 'tf': 2}}, 'df': 1}, 'پرگل': {'docs': {'5': {'positions': [46], 'tf': 1}}, 'df': 1}, 'ادامه': {'docs': {'5': {'positions': [49], 'tf': 1}, '7': {'positions': [53], 'tf': 1}}, 'df': 2}, 'چهارم': {'docs': {'5': {'positions': [51], 'tf': 1}}, 'df': 1}, 'برتر': {'docs': {'5': {'positions': [53], 'tf': 1}}, 'df': 1}, 'فوتبال': {'docs': {'5': {'positions': [54, 57], 'tf': 2}, '7': {'positions': [2, 19, 30, 37, 76, 99], 'tf': 6}, '9': {'positions': [64], 'tf': 1}}, 'df': 3}, 'ایران،': {'docs': {'5': {'positions': [55], 'tf': 1}}, 'df': 1}, 'ساعت': {'docs': {'5': {'positions': [60], 'tf': 1}}, 'df': 1}, '١۶١۵': {'docs': {'5': {'positions': [61], 'tf': 1}}, 'df': 1}, 'دوشنبه': {'docs': {'5': {'positions': [63], 'tf': 1}}, 'df': 1}, 'ورزشگاه': {'docs': {'5': {'positions': [65], 'tf': 1}}, 'df': 1}, 'آزادی': {'docs': {'5': {'positions': [66], 'tf': 1}, '7': {'positions': [103], 'tf': 1}}, 'df': 2}, 'میزبان': {'docs': {'5': {'positions': [67], 'tf': 1}}, 'df': 1}, 'شهر': {'docs': {'5': {'positions': [68], 'tf': 1}}, 'df': 1}, 'خودرو': {'docs': {'5': {'positions': [69], 'tf': 1}}, 'df': 1}, 'خراسان': {'docs': {'5': {'positions': [70], 'tf': 1}}, 'df': 1}, 'دیدار': {'docs': {'5': {'positions': [74], 'tf': 1}}, 'df': 1}, '۳بر': {'docs': {'5': {'positions': [78], 'tf': 1}}, 'df': 1}, 'صفر': {'docs': {'5': {'positions': [79], 'tf': 1}}, 'df': 1}, 'پایان': {'docs': {'5': {'positions': [82], 'tf': 1}, '10': {'positions': [122], 'tf': 1}}, 'df': 2}, 'گل\\u200bهای': {'docs': {'5': {'positions': [84], 'tf': 1}}, 'df': 1}, 'سید': {'docs': {'5': {'positions': [87], 'tf': 1}}, 'df': 1}, 'جلال': {'docs': {'5': {'positions': [88], 'tf': 1}}, 'df': 1}, 'حسینی': {'docs': {'5': {'positions': [89], 'tf': 1}}, 'df': 1}, 'دقیقه': {'docs': {'5': {'positions': [91, 96], 'tf': 2}}, 'df': 1}, '۴١،': {'docs': {'5': {'positions': [92], 'tf': 1}}, 'df': 1}, 'احمد': {'docs': {'5': {'positions': [93], 'tf': 1}}, 'df': 1}, 'نوراللهی': {'docs': {'5': {'positions': [94], 'tf': 1}}, 'df': 1}, '۸۴': {'docs': {'5': {'positions': [97], 'tf': 1}}, 'df': 1}, 'میلاد': {'docs': {'5': {'positions': [99], 'tf': 1}}, 'df': 1}, 'سرلک': {'docs': {'5': {'positions': [100], 'tf': 1}}, 'df': 1}, 'دققه': {'docs': {'5': {'positions': [102], 'tf': 1}}, 'df': 1}, '۸۹': {'docs': {'5': {'positions': [103], 'tf': 1}}, 'df': 1}, 'ثمر': {'docs': {'5': {'positions': [105], 'tf': 1}}, 'df': 1}, 'رساندند': {'docs': {'5': {'positions': [106], 'tf': 1}}, 'df': 1}, 'کلیات': {'docs': {'6': {'positions': [0], 'tf': 1}}, 'df': 1}, 'بودجه': {'docs': {'6': {'positions': [1, 7, 10, 25, 60, 84, 137, 144, 165, 174, 182, 195], 'tf': 12}}, 'df': 1}, '۱۴۰۰': {'docs': {'6': {'positions': [2, 183], 'tf': 2}, '10': {'positions': [30, 120], 'tf': 2}}, 'df': 2}, 'رد': {'docs': {'6': {'positions': [3], 'tf': 1}, '9': {'positions': [55], 'tf': 1}}, 'df': 2}, 'خواهد': {'docs': {'6': {'positions': [4], 'tf': 1}, '10': {'positions': [126], 'tf': 1}}, 'df': 2}, 'شد؟': {'docs': {'6': {'positions': [5], 'tf': 1}}, 'df': 1}, 'سال': {'docs': {'6': {'positions': [8, 85, 138, 145, 159], 'tf': 5}, '8': {'positions': [110], 'tf': 1}}, 'df': 2}, 'آینده،': {'docs': {'6': {'positions': [9], 'tf': 1}}, 'df': 1}, 'کشور': {'docs': {'6': {'positions': [12, 28], 'tf': 2}, '7': {'positions': [120], 'tf': 1}, '8': {'positions': [31, 81], 'tf': 2}, '10': {'positions': [4], 'tf': 1}}, 'df': 4}, '۲۰': {'docs': {'6': {'positions': [14, 116], 'tf': 2}}, 'df': 1}, 'رشد': {'docs': {'6': {'positions': [16, 33, 77, 102, 115], 'tf': 5}, '10': {'positions': [157], 'tf': 1}}, 'df': 2}, '۲۴۳۵': {'docs': {'6': {'positions': [18], 'tf': 1}}, 'df': 1}, 'تومان': {'docs': {'6': {'positions': [21, 37, 63, 66, 91, 109, 122], 'tf': 7}, '8': {'positions': [129], 'tf': 1}, '10': {'positions': [104], 'tf': 1}}, 'df': 3}, 'یافته': {'docs': {'6': {'positions': [23, 68, 93, 124], 'tf': 4}}, 'df': 1}, 'عمومی': {'docs': {'6': {'positions': [26], 'tf': 1}, '7': {'positions': [35], 'tf': 1}}, 'df': 2}, '۴۳': {'docs': {'6': {'positions': [31], 'tf': 1}}, 'df': 1}, '۹۳۰': {'docs': {'6': {'positions': [34], 'tf': 1}}, 'df': 1}, 'پیش': {'docs': {'6': {'positions': [38], 'tf': 1}, '7': {'positions': [78], 'tf': 1}, '10': {'positions': [20, 110, 145], 'tf': 3}}, 'df': 3}, 'بینی': {'docs': {'6': {'positions': [39], 'tf': 1}, '10': {'positions': [21, 111], 'tf': 2}}, 'df': 2}, 'میزان': {'docs': {'6': {'positions': [42], 'tf': 1}, '8': {'positions': [28], 'tf': 1}}, 'df': 2}, 'صادرات': {'docs': {'6': {'positions': [43], 'tf': 1}}, 'df': 1}, 'نفت': {'docs': {'6': {'positions': [44, 75], 'tf': 2}}, 'df': 1}, '۸۰۰': {'docs': {'6': {'positions': [46], 'tf': 1}}, 'df': 1}, 'بشکه': {'docs': {'6': {'positions': [48, 54], 'tf': 2}}, 'df': 1}, '۲۳': {'docs': {'6': {'positions': [52], 'tf': 1}}, 'df': 1}, 'روز،': {'docs': {'6': {'positions': [56], 'tf': 1}}, 'df': 1}, '۸۵۰۰': {'docs': {'6': {'positions': [62], 'tf': 1}}, 'df': 1}, '۱۱۵۰۰': {'docs': {'6': {'positions': [65], 'tf': 1}}, 'df': 1}, 'ارتقا': {'docs': {'6': {'positions': [67], 'tf': 1}}, 'df': 1}, 'درآمد': {'docs': {'6': {'positions': [70], 'tf': 1}}, 'df': 1}, 'حاصل': {'docs': {'6': {'positions': [72], 'tf': 1}}, 'df': 1}, 'فروش': {'docs': {'6': {'positions': [74, 96], 'tf': 2}}, 'df': 1}, '۲۴۹': {'docs': {'6': {'positions': [78], 'tf': 1}}, 'df': 1}, 'درصدی': {'docs': {'6': {'positions': [79, 104, 117], 'tf': 3}, '10': {'positions': [37, 134], 'tf': 2}}, 'df': 2}, 'مقایسه': {'docs': {'6': {'positions': [81, 141], 'tf': 2}}, 'df': 1}, 'قانون': {'docs': {'6': {'positions': [83, 143], 'tf': 2}}, 'df': 1}, 'جاری': {'docs': {'6': {'positions': [86], 'tf': 1}, '8': {'positions': [111], 'tf': 1}, '9': {'positions': [33], 'tf': 1}}, 'df': 3}, '۱۹۹': {'docs': {'6': {'positions': [88], 'tf': 1}}, 'df': 1}, 'سهام': {'docs': {'6': {'positions': [97], 'tf': 1}}, 'df': 1}, 'دولتی': {'docs': {'6': {'positions': [98], 'tf': 1}}, 'df': 1}, '۷۳۰': {'docs': {'6': {'positions': [103], 'tf': 1}}, 'df': 1}, '۹۵': {'docs': {'6': {'positions': [106], 'tf': 1}}, 'df': 1}, 'منابع': {'docs': {'6': {'positions': [111], 'tf': 1}, '9': {'positions': [82], 'tf': 1}}, 'df': 2}, 'درآمدی': {'docs': {'6': {'positions': [112], 'tf': 1}}, 'df': 1}, 'مالیاتی': {'docs': {'6': {'positions': [113], 'tf': 1}}, 'df': 1}, '۲۴۷': {'docs': {'6': {'positions': [119], 'tf': 1}}, 'df': 1}, 'همان': {'docs': {'6': {'positions': [127], 'tf': 1}}, 'df': 1}, 'نگاه': {'docs': {'6': {'positions': [128], 'tf': 1}}, 'df': 1}, 'اول،': {'docs': {'6': {'positions': [129], 'tf': 1}}, 'df': 1}, 'بی': {'docs': {'6': {'positions': [132], 'tf': 1}}, 'df': 1}, 'حساب': {'docs': {'6': {'positions': [133], 'tf': 1}}, 'df': 1}, 'کتاب': {'docs': {'6': {'positions': [135], 'tf': 1}}, 'df': 1}, 'ارقام': {'docs': {'6': {'positions': [136, 153], 'tf': 2}}, 'df': 1}, 'آینده': {'docs': {'6': {'positions': [139, 160], 'tf': 2}}, 'df': 1}, 'جاری،': {'docs': {'6': {'positions': [146], 'tf': 1}}, 'df': 1}, 'انتقاداتی': {'docs': {'6': {'positions': [147], 'tf': 1}}, 'df': 1}, 'همراه': {'docs': {'6': {'positions': [150], 'tf': 1}}, 'df': 1}, 'بیانگر': {'docs': {'6': {'positions': [154], 'tf': 1}}, 'df': 1}, 'باید': {'docs': {'6': {'positions': [158, 192], 'tf': 2}, '7': {'positions': [111], 'tf': 1}}, 'df': 2}, 'احتمالا': {'docs': {'6': {'positions': [161], 'tf': 1}}, 'df': 1}, 'شاهد': {'docs': {'6': {'positions': [162], 'tf': 1}, '8': {'positions': [112, 121], 'tf': 2}}, 'df': 2}, 'کسری': {'docs': {'6': {'positions': [164, 185], 'tf': 2}}, 'df': 1}, 'بالایی': {'docs': {'6': {'positions': [166], 'tf': 1}}, 'df': 1}, 'باشیم': {'docs': {'6': {'positions': [167], 'tf': 1}, '7': {'positions': [67], 'tf': 1}, '8': {'positions': [10, 113], 'tf': 2}}, 'df': 3}, 'جبار': {'docs': {'6': {'positions': [168], 'tf': 1}}, 'df': 1}, 'کوچکی': {'docs': {'6': {'positions': [169], 'tf': 1}}, 'df': 1}, 'نژاد،': {'docs': {'6': {'positions': [170], 'tf': 1}}, 'df': 1}, 'عضو': {'docs': {'6': {'positions': [171], 'tf': 1}}, 'df': 1}, 'کمیسیون': {'docs': {'6': {'positions': [172], 'tf': 1}}, 'df': 1}, 'برنامه،': {'docs': {'6': {'positions': [173], 'tf': 1}}, 'df': 1}, 'محاسبات': {'docs': {'6': {'positions': [176], 'tf': 1}}, 'df': 1}, 'مجلس': {'docs': {'6': {'positions': [177], 'tf': 1}, '7': {'positions': [122], 'tf': 1}}, 'df': 2}, 'طی': {'docs': {'6': {'positions': [178], 'tf': 1}, '8': {'positions': [19], 'tf': 1}}, 'df': 2}, 'گفتگویی': {'docs': {'6': {'positions': [179], 'tf': 1}}, 'df': 1}, 'اظهار': {'docs': {'6': {'positions': [180], 'tf': 1}, '10': {'positions': [78], 'tf': 1}}, 'df': 2}, 'شدیدی': {'docs': {'6': {'positions': [186], 'tf': 1}}, 'df': 1}, 'مواجه': {'docs': {'6': {'positions': [187], 'tf': 1}}, 'df': 1}, 'دولت': {'docs': {'6': {'positions': [191], 'tf': 1}}, 'df': 1}, 'بخشی': {'docs': {'6': {'positions': [193], 'tf': 1}}, 'df': 1}, 'غیرضروری': {'docs': {'6': {'positions': [197], 'tf': 1}}, 'df': 1}, 'دهد': {'docs': {'6': {'positions': [200], 'tf': 1}, '9': {'positions': [16], 'tf': 1}}, 'df': 2}, 'سرپرست': {'docs': {'7': {'positions': [0, 28], 'tf': 2}}, 'df': 1}, 'فدراسیون': {'docs': {'7': {'positions': [1, 18, 29, 36], 'tf': 4}}, 'df': 1}, 'صورت': {'docs': {'7': {'positions': [4, 102], 'tf': 2}, '8': {'positions': [61, 92, 116], 'tf': 3}, '10': {'positions': [164], 'tf': 1}}, 'df': 3}, 'تلویحی': {'docs': {'7': {'positions': [5], 'tf': 1}}, 'df': 1}, 'ممنوعیتی': {'docs': {'7': {'positions': [9], 'tf': 1}}, 'df': 1}, 'بازنشسته': {'docs': {'7': {'positions': [12, 105], 'tf': 2}}, 'df': 1}, 'ها': {'docs': {'7': {'positions': [13, 106], 'tf': 2}, '8': {'positions': [64], 'tf': 1}, '9': {'positions': [129, 132], 'tf': 2}}, 'df': 3}, 'انتخابات': {'docs': {'7': {'positions': [15, 40, 50, 58, 64, 95, 108], 'tf': 7}}, 'df': 1}, 'هیات': {'docs': {'7': {'positions': [16, 41, 96], 'tf': 3}}, 'df': 1}, 'رییسه': {'docs': {'7': {'positions': [17, 42, 97], 'tf': 3}}, 'df': 1}, 'حیدر': {'docs': {'7': {'positions': [26], 'tf': 1}}, 'df': 1}, 'بهاروند،': {'docs': {'7': {'positions': [27], 'tf': 1}}, 'df': 1}, 'صبح': {'docs': {'7': {'positions': [31], 'tf': 1}}, 'df': 1}, 'مجمع': {'docs': {'7': {'positions': [34], 'tf': 1}}, 'df': 1}, 'گفت': {'docs': {'7': {'positions': [43], 'tf': 1}, '8': {'positions': [25], 'tf': 1}}, 'df': 2}, 'فقط': {'docs': {'7': {'positions': [44], 'tf': 1}}, 'df': 1}, 'اساسنامه': {'docs': {'7': {'positions': [45, 57], 'tf': 2}}, 'df': 1}, 'معیار': {'docs': {'7': {'positions': [46], 'tf': 1}}, 'df': 1}, 'ملاک': {'docs': {'7': {'positions': [48], 'tf': 1}}, 'df': 1}, 'او': {'docs': {'7': {'positions': [52], 'tf': 1}}, 'df': 1}, 'موظفیم': {'docs': {'7': {'positions': [55], 'tf': 1}}, 'df': 1}, 'برگزار': {'docs': {'7': {'positions': [60], 'tf': 1}}, 'df': 1}, 'کنیم': {'docs': {'7': {'positions': [61], 'tf': 1}, '10': {'positions': [23, 113], 'tf': 2}}, 'df': 2}, 'ولاغیر': {'docs': {'7': {'positions': [62], 'tf': 1}}, 'df': 1}, 'امیدوارم': {'docs': {'7': {'positions': [63], 'tf': 1}}, 'df': 1}, 'خوبی': {'docs': {'7': {'positions': [65], 'tf': 1}}, 'df': 1}, 'داشته': {'docs': {'7': {'positions': [66], 'tf': 1}}, 'df': 1}, 'کس': {'docs': {'7': {'positions': [70], 'tf': 1}}, 'df': 1}, 'انتخاب': {'docs': {'7': {'positions': [72], 'tf': 1}}, 'df': 1}, 'سکان': {'docs': {'7': {'positions': [74], 'tf': 1}}, 'df': 1}, 'ببرد': {'docs': {'7': {'positions': [79], 'tf': 1}}, 'df': 1}, 'رسد': {'docs': {'7': {'positions': [83], 'tf': 1}}, 'df': 1}, 'اظهارات': {'docs': {'7': {'positions': [85], 'tf': 1}}, 'df': 1}, 'بهاروند': {'docs': {'7': {'positions': [86], 'tf': 1}}, 'df': 1}, 'پاسخ': {'docs': {'7': {'positions': [88], 'tf': 1}}, 'df': 1}, 'شائبه': {'docs': {'7': {'positions': [90], 'tf': 1}}, 'df': 1}, 'ممنوعیت': {'docs': {'7': {'positions': [91], 'tf': 1}}, 'df': 1}, 'بازنشستگان': {'docs': {'7': {'positions': [93], 'tf': 1}}, 'df': 1}, 'فدراسون': {'docs': {'7': {'positions': [98], 'tf': 1}}, 'df': 1}, 'شرکت': {'docs': {'7': {'positions': [104], 'tf': 1}}, 'df': 1}, 'آتی': {'docs': {'7': {'positions': [109], 'tf': 1}}, 'df': 1}, 'فوتبال،': {'docs': {'7': {'positions': [110], 'tf': 1}}, 'df': 1}, 'موضوع': {'docs': {'7': {'positions': [113], 'tf': 1}}, 'df': 1}, 'دهن': {'docs': {'7': {'positions': [115], 'tf': 1}}, 'df': 1}, 'کجی': {'docs': {'7': {'positions': [116], 'tf': 1}}, 'df': 1}, 'قوانین': {'docs': {'7': {'positions': [118], 'tf': 1}}, 'df': 1}, 'مصوب': {'docs': {'7': {'positions': [121], 'tf': 1}}, 'df': 1}, 'شورای': {'docs': {'7': {'positions': [123, 129], 'tf': 2}}, 'df': 1}, 'اسلامی': {'docs': {'7': {'positions': [124], 'tf': 1}}, 'df': 1}, 'تایید': {'docs': {'7': {'positions': [126], 'tf': 1}}, 'df': 1}, 'نگهبان': {'docs': {'7': {'positions': [130], 'tf': 1}}, 'df': 1}, 'چالش': {'docs': {'8': {'positions': [0], 'tf': 1}}, 'df': 1}, 'مرغی': {'docs': {'8': {'positions': [1], 'tf': 1}}, 'df': 1}, 'مسئولان؛': {'docs': {'8': {'positions': [2], 'tf': 1}}, 'df': 1}, 'مرغ': {'docs': {'8': {'positions': [5, 24, 56, 107, 124], 'tf': 5}}, 'df': 1}, 'پر': {'docs': {'8': {'positions': [6], 'tf': 1}}, 'df': 1}, 'کشید؟': {'docs': {'8': {'positions': [7], 'tf': 1}}, 'df': 1}, 'منتظر': {'docs': {'8': {'positions': [8], 'tf': 1}}, 'df': 1}, 'ارزانی': {'docs': {'8': {'positions': [9], 'tf': 1}}, 'df': 1}, 'یا': {'docs': {'8': {'positions': [11], 'tf': 1}}, 'df': 1}, 'عادت': {'docs': {'8': {'positions': [12], 'tf': 1}}, 'df': 1}, 'کنیم؟': {'docs': {'8': {'positions': [13], 'tf': 1}}, 'df': 1}, 'کاظم': {'docs': {'8': {'positions': [14], 'tf': 1}}, 'df': 1}, 'خاوازی،': {'docs': {'8': {'positions': [15], 'tf': 1}}, 'df': 1}, 'وزیر': {'docs': {'8': {'positions': [16], 'tf': 1}}, 'df': 1}, 'جهاد': {'docs': {'8': {'positions': [17], 'tf': 1}}, 'df': 1}, 'کشاورزی': {'docs': {'8': {'positions': [18], 'tf': 1}}, 'df': 1}, 'مصاحبه': {'docs': {'8': {'positions': [20], 'tf': 1}}, 'df': 1}, 'ای': {'docs': {'8': {'positions': [21], 'tf': 1}}, 'df': 1}, 'جو': {'docs': {'8': {'positions': [26], 'tf': 1}}, 'df': 1}, 'کافی': {'docs': {'8': {'positions': [29], 'tf': 1}}, 'df': 1}, 'موجود': {'docs': {'8': {'positions': [32], 'tf': 1}}, 'df': 1}, 'همت': {'docs': {'8': {'positions': [36], 'tf': 1}}, 'df': 1}, 'مرکزی،': {'docs': {'8': {'positions': [38], 'tf': 1}}, 'df': 1}, 'وزارت': {'docs': {'8': {'positions': [39], 'tf': 1}}, 'df': 1}, 'صمت': {'docs': {'8': {'positions': [40], 'tf': 1}}, 'df': 1}, 'تدارک': {'docs': {'8': {'positions': [43], 'tf': 1}}, 'df': 1}, 'واردات': {'docs': {'8': {'positions': [45], 'tf': 1}, '10': {'positions': [45], 'tf': 1}}, 'df': 2}, 'کنجاله': {'docs': {'8': {'positions': [46], 'tf': 1}}, 'df': 1}, 'دانه': {'docs': {'8': {'positions': [48], 'tf': 1}}, 'df': 1}, 'سویاست': {'docs': {'8': {'positions': [49], 'tf': 1}}, 'df': 1}, 'امیدواریم': {'docs': {'8': {'positions': [51], 'tf': 1}}, 'df': 1}, 'تدابیر': {'docs': {'8': {'positions': [54], 'tf': 1}}, 'df': 1}, 'یابد': {'docs': {'8': {'positions': [58], 'tf': 1}}, 'df': 1}, 'وعده': {'docs': {'8': {'positions': [63], 'tf': 1}}, 'df': 1}, 'حالی': {'docs': {'8': {'positions': [66], 'tf': 1}}, 'df': 1}, 'سایت': {'docs': {'8': {'positions': [69], 'tf': 1}}, 'df': 1}, 'اقتصادی': {'docs': {'8': {'positions': [71], 'tf': 1}, '10': {'positions': [57, 158], 'tf': 2}}, 'df': 2}, 'گفتگو': {'docs': {'8': {'positions': [73], 'tf': 1}}, 'df': 1}, 'نایب': {'docs': {'8': {'positions': [75], 'tf': 1}}, 'df': 1}, 'رئیس': {'docs': {'8': {'positions': [76], 'tf': 1}}, 'df': 1}, 'کانون': {'docs': {'8': {'positions': [77], 'tf': 1}}, 'df': 1}, 'انجمن': {'docs': {'8': {'positions': [78], 'tf': 1}}, 'df': 1}, 'صنفی': {'docs': {'8': {'positions': [79], 'tf': 1}}, 'df': 1}, 'مرغداران': {'docs': {'8': {'positions': [80], 'tf': 1}}, 'df': 1}, 'اواخر': {'docs': {'8': {'positions': [83], 'tf': 1}}, 'df': 1}, 'شهریورماه': {'docs': {'8': {'positions': [84], 'tf': 1}}, 'df': 1}, 'هشدار': {'docs': {'8': {'positions': [86], 'tf': 1}}, 'df': 1}, 'تامین': {'docs': {'8': {'positions': [93], 'tf': 1}}, 'df': 1}, 'نشدن': {'docs': {'8': {'positions': [94], 'tf': 1}}, 'df': 1}, 'نهاده': {'docs': {'8': {'positions': [95], 'tf': 1}}, 'df': 1}, 'مرغداران،': {'docs': {'8': {'positions': [97], 'tf': 1}}, 'df': 1}, 'ممکن': {'docs': {'8': {'positions': [98], 'tf': 1}}, 'df': 1}, 'جهش': {'docs': {'8': {'positions': [101], 'tf': 1}}, 'df': 1}, 'وحشتناکی': {'docs': {'8': {'positions': [103], 'tf': 1}}, 'df': 1}, 'پاییز': {'docs': {'8': {'positions': [109], 'tf': 1}}, 'df': 1}, 'آنچه': {'docs': {'8': {'positions': [118], 'tf': 1}}, 'df': 1}, 'رسیدن': {'docs': {'8': {'positions': [122], 'tf': 1}}, 'df': 1}, 'حتی': {'docs': {'8': {'positions': [125], 'tf': 1}}, 'df': 1}, 'هستیم': {'docs': {'8': {'positions': [130], 'tf': 1}}, 'df': 1}, 'جای': {'docs': {'8': {'positions': [133], 'tf': 1}}, 'df': 1}, 'نگرانی': {'docs': {'8': {'positions': [134], 'tf': 1}, '9': {'positions': [75], 'tf': 1}}, 'df': 2}, 'مستند': {'docs': {'9': {'positions': [1], 'tf': 1}}, 'df': 1}, 'گروه': {'docs': {'9': {'positions': [2], 'tf': 1}}, 'df': 1}, 'رسانه': {'docs': {'9': {'positions': [3], 'tf': 1}}, 'df': 1}, 'منطقه': {'docs': {'9': {'positions': [11], 'tf': 1}}, 'df': 1}, 'شرق': {'docs': {'9': {'positions': [12], 'tf': 1}}, 'df': 1}, 'آسیا،': {'docs': {'9': {'positions': [13], 'tf': 1}}, 'df': 1}, 'نشان': {'docs': {'9': {'positions': [14], 'tf': 1}}, 'df': 1}, 'خطر': {'docs': {'9': {'positions': [18], 'tf': 1}}, 'df': 1}, 'رفتن': {'docs': {'9': {'positions': [21], 'tf': 1}}, 'df': 1}, 'تبع': {'docs': {'9': {'positions': [26], 'tf': 1}}, 'df': 1}, 'احتمالی': {'docs': {'9': {'positions': [29], 'tf': 1}}, 'df': 1}, 'لحظه': {'docs': {'9': {'positions': [35], 'tf': 1}}, 'df': 1}, 'بیشتر': {'docs': {'9': {'positions': [36], 'tf': 1}}, 'df': 1}, '«تابناک': {'docs': {'9': {'positions': [41], 'tf': 1}}, 'df': 1}, 'ورزشی»؛': {'docs': {'9': {'positions': [42], 'tf': 1}}, 'df': 1}, 'بعد': {'docs': {'9': {'positions': [43], 'tf': 1}}, 'df': 1}, 'پشت': {'docs': {'9': {'positions': [45], 'tf': 1}}, 'df': 1}, 'سر': {'docs': {'9': {'positions': [46], 'tf': 1}}, 'df': 1}, 'گذاشتن': {'docs': {'9': {'positions': [47], 'tf': 1}}, 'df': 1}, 'شکایت': {'docs': {'9': {'positions': [48], 'tf': 1}}, 'df': 1}, 'دنباله': {'docs': {'9': {'positions': [49], 'tf': 1}}, 'df': 1}, 'دار': {'docs': {'9': {'positions': [50], 'tf': 1}}, 'df': 1}, 'النصر': {'docs': {'9': {'positions': [52], 'tf': 1}}, 'df': 1}, 'عربستان': {'docs': {'9': {'positions': [53, 90], 'tf': 2}}, 'df': 1}, 'اعتراض': {'docs': {'9': {'positions': [56], 'tf': 1}}, 'df': 1}, 'پیاپی': {'docs': {'9': {'positions': [58], 'tf': 1}}, 'df': 1}, 'کنفدراسیون': {'docs': {'9': {'positions': [63], 'tf': 1}}, 'df': 1}, 'چه': {'docs': {'9': {'positions': [66, 71], 'tf': 2}}, 'df': 1}, 'مرحله': {'docs': {'9': {'positions': [68], 'tf': 1}}, 'df': 1}, 'بدوی': {'docs': {'9': {'positions': [69], 'tf': 1}}, 'df': 1}, 'استیناف': {'docs': {'9': {'positions': [72], 'tf': 1}}, 'df': 1}, 'AFC،': {'docs': {'9': {'positions': [73], 'tf': 1}}, 'df': 1}, 'حالا': {'docs': {'9': {'positions': [74], 'tf': 1}}, 'df': 1}, 'جدیدی': {'docs': {'9': {'positions': [76], 'tf': 1}}, 'df': 1}, 'سراغ': {'docs': {'9': {'positions': [77], 'tf': 1}}, 'df': 1}, 'ایرانی': {'docs': {'9': {'positions': [79], 'tf': 1}}, 'df': 1}, 'آمده': {'docs': {'9': {'positions': [80], 'tf': 1}}, 'df': 1}, 'خبری': {'docs': {'9': {'positions': [83], 'tf': 1}, '10': {'positions': [69], 'tf': 1}}, 'df': 2}, 'گویند': {'docs': {'9': {'positions': [85], 'tf': 1}}, 'df': 1}, 'احتمال': {'docs': {'9': {'positions': [86], 'tf': 1}, '10': {'positions': [71], 'tf': 1}}, 'df': 2}, 'اینکه': {'docs': {'9': {'positions': [87], 'tf': 1}, '10': {'positions': [19], 'tf': 1}}, 'df': 2}, 'ماجرای': {'docs': {'9': {'positions': [88], 'tf': 1}}, 'df': 1}, 'الهلال': {'docs': {'9': {'positions': [89], 'tf': 1}}, 'df': 1}, 'ایران': {'docs': {'9': {'positions': [93], 'tf': 1}}, 'df': 1}, 'تکرار': {'docs': {'9': {'positions': [94], 'tf': 1}}, 'df': 1}, 'اصلا': {'docs': {'9': {'positions': [96], 'tf': 1}}, 'df': 1}, 'نیست': {'docs': {'9': {'positions': [98], 'tf': 1}}, 'df': 1}, 'ماجرایی': {'docs': {'9': {'positions': [99], 'tf': 1}}, 'df': 1}, 'باعث': {'docs': {'9': {'positions': [101], 'tf': 1}}, 'df': 1}, 'خاطر': {'docs': {'9': {'positions': [104], 'tf': 1}}, 'df': 1}, 'ابتلای': {'docs': {'9': {'positions': [105], 'tf': 1}}, 'df': 1}, 'تن': {'docs': {'9': {'positions': [107], 'tf': 1}}, 'df': 1}, 'مدعی': {'docs': {'9': {'positions': [114], 'tf': 1}}, 'df': 1}, 'عربستانی': {'docs': {'9': {'positions': [115], 'tf': 1}}, 'df': 1}, 'کرونا،': {'docs': {'9': {'positions': [117], 'tf': 1}}, 'df': 1}, 'صدرنشینی': {'docs': {'9': {'positions': [120], 'tf': 1}}, 'df': 1}, 'گروه،': {'docs': {'9': {'positions': [124], 'tf': 1}}, 'df': 1}, 'رای': {'docs': {'9': {'positions': [125], 'tf': 1}}, 'df': 1}, 'حذف': {'docs': {'9': {'positions': [127], 'tf': 1}}, 'df': 1}, 'رقابت': {'docs': {'9': {'positions': [131], 'tf': 1}}, 'df': 1}, 'اجازه': {'docs': {'10': {'positions': [0, 41], 'tf': 2}}, 'df': 1}, 'خروج': {'docs': {'10': {'positions': [1, 42], 'tf': 2}}, 'df': 1}, 'سرمایه': {'docs': {'10': {'positions': [2, 43], 'tf': 2}}, 'df': 1}, 'دهم': {'docs': {'10': {'positions': [7, 53], 'tf': 2}}, 'df': 1}, 'نیمایی': {'docs': {'10': {'positions': [9, 101], 'tf': 2}}, 'df': 1}, 'روند': {'docs': {'10': {'positions': [10], 'tf': 1}}, 'df': 1}, 'کاهشی': {'docs': {'10': {'positions': [11], 'tf': 1}}, 'df': 1}, 'رییس': {'docs': {'10': {'positions': [13], 'tf': 1}}, 'df': 1}, 'یکساله': {'docs': {'10': {'positions': [26, 116, 124], 'tf': 3}}, 'df': 1}, 'منتهی': {'docs': {'10': {'positions': [27, 117], 'tf': 2}}, 'df': 1}, 'خرداد': {'docs': {'10': {'positions': [29, 119], 'tf': 2}}, 'df': 1}, 'بتوانیم': {'docs': {'10': {'positions': [31, 128], 'tf': 2}}, 'df': 1}, 'تورم': {'docs': {'10': {'positions': [33, 130], 'tf': 2}}, 'df': 1}, 'تا': {'docs': {'10': {'positions': [35, 132], 'tf': 2}}, 'df': 1}, 'نزدیک': {'docs': {'10': {'positions': [38, 135], 'tf': 2}}, 'df': 1}, 'شویم،': {'docs': {'10': {'positions': [39], 'tf': 1}}, 'df': 1}, 'افزود': {'docs': {'10': {'positions': [40, 138], 'tf': 2}}, 'df': 1}, 'کالاهایی': {'docs': {'10': {'positions': [46], 'tf': 1}}, 'df': 1}, 'اولویت': {'docs': {'10': {'positions': [49], 'tf': 1}}, 'df': 1}, 'نباشد': {'docs': {'10': {'positions': [50], 'tf': 1}}, 'df': 1}, 'نقل': {'docs': {'10': {'positions': [59], 'tf': 1}}, 'df': 1}, 'ایبِنا،': {'docs': {'10': {'positions': [61], 'tf': 1}}, 'df': 1}, 'دکتر': {'docs': {'10': {'positions': [62], 'tf': 1}}, 'df': 1}, 'عبدالناصر': {'docs': {'10': {'positions': [63], 'tf': 1}}, 'df': 1}, 'همتی': {'docs': {'10': {'positions': [64], 'tf': 1}}, 'df': 1}, 'برنامه': {'docs': {'10': {'positions': [66], 'tf': 1}}, 'df': 1}, 'گفتگوی': {'docs': {'10': {'positions': [67], 'tf': 1}}, 'df': 1}, 'ویژه': {'docs': {'10': {'positions': [68], 'tf': 1}}, 'df': 1}, 'دستیابی': {'docs': {'10': {'positions': [72], 'tf': 1}}, 'df': 1}, 'هدفگذاری': {'docs': {'10': {'positions': [74, 96, 125], 'tf': 3}}, 'df': 1}, 'تورمی': {'docs': {'10': {'positions': [75, 84], 'tf': 2}}, 'df': 1}, 'انجام': {'docs': {'10': {'positions': [76, 90, 97, 151], 'tf': 4}}, 'df': 1}, 'هدف': {'docs': {'10': {'positions': [82], 'tf': 1}}, 'df': 1}, 'یکسری': {'docs': {'10': {'positions': [87], 'tf': 1}}, 'df': 1}, 'متغیرها': {'docs': {'10': {'positions': [89], 'tf': 1}}, 'df': 1}, 'زمانی': {'docs': {'10': {'positions': [93], 'tf': 1}}, 'df': 1}, '۱۷': {'docs': {'10': {'positions': [102], 'tf': 1}}, 'df': 1}, 'بود،': {'docs': {'10': {'positions': [105, 127], 'tf': 2}}, 'df': 1}, 'هنوز': {'docs': {'10': {'positions': [109], 'tf': 1}}, 'df': 1}, 'دوره': {'docs': {'10': {'positions': [123], 'tf': 1}}, 'df': 1}, 'شویم': {'docs': {'10': {'positions': [136], 'tf': 1}}, 'df': 1}, 'وی': {'docs': {'10': {'positions': [137], 'tf': 1}}, 'df': 1}, 'روندی': {'docs': {'10': {'positions': [140], 'tf': 1}}, 'df': 1}, 'گرفته': {'docs': {'10': {'positions': [146], 'tf': 1}}, 'df': 1}, 'اقداماتی': {'docs': {'10': {'positions': [149], 'tf': 1}}, 'df': 1}, 'اتفاقاتی': {'docs': {'10': {'positions': [154], 'tf': 1}}, 'df': 1}, 'تجارت': {'docs': {'10': {'positions': [160], 'tf': 1}}, 'df': 1}, 'خارجی': {'docs': {'10': {'positions': [161], 'tf': 1}}, 'df': 1}, 'گرفتن': {'docs': {'10': {'positions': [165], 'tf': 1}}, 'df': 1}, 'است،': {'docs': {'10': {'positions': [166], 'tf': 1}}, 'df': 1}, 'پیچ': {'docs': {'10': {'positions': [169], 'tf': 1}}, 'df': 1}, 'گذر': {'docs': {'10': {'positions': [170], 'tf': 1}}, 'df': 1}, 'خواهیم': {'docs': {'10': {'positions': [171], 'tf': 1}}, 'df': 1}}\n"
     ]
    }
   ],
   "source": [
    "#We load the saved pickle file \n",
    "a_file = open(\"data.pkl\", \"rb\")\n",
    "output = pickle.load(a_file)\n",
    "print(output)"
   ]
  },
  {
   "cell_type": "code",
   "execution_count": 53,
   "metadata": {},
   "outputs": [
    {
     "data": {
      "text/plain": [
       "dict_keys(['1', '3', '5', '7', '8', '10'])"
      ]
     },
     "execution_count": 53,
     "metadata": {},
     "output_type": "execute_result"
    }
   ],
   "source": [
    "\n",
    "\n",
    "# frequent_words = []\n",
    "\n",
    "# for word in word_freq_dict:\n",
    "#     if word_freq_dict[word] > 30:\n",
    "#         frequent_words.append(word)\n",
    "\n",
    "# frequent_words\n",
    "\n",
    "output[\"تابناک\"][\"docs\"].keys()"
   ]
  },
  {
   "cell_type": "code",
   "execution_count": 54,
   "metadata": {},
   "outputs": [],
   "source": [
    "#This method will sort the documents based on their appearance in results\n",
    "def sort_docs(query_response): \n",
    "    \n",
    "    query_response_keys = list(query_response.keys())\n",
    "    query_response_values = list(query_response.values())\n",
    "    sort_docs_dict = {}\n",
    "    for doc_list in query_response_values:\n",
    "        for doc in doc_list:\n",
    "            if doc not in sort_docs_dict.keys():\n",
    "                sort_docs_dict[doc] = 1\n",
    "            else:\n",
    "                sort_docs_dict[doc] += 1\n",
    "                \n",
    "    sort_docs_dict = {k: v for k, v in sorted(sort_docs_dict.items(), key=lambda item: item[1])}\n",
    "    \n",
    "    return sort_docs_dict\n",
    "    \n",
    "    \n",
    "#     return list(set(query_response_values[0]) & set(query_response_values[1])) \n",
    "    print (token_combinations_list[0][0][1])\n",
    "\n",
    "#This method will process the user's query and prints response for him\n",
    "def query ():\n",
    "    \n",
    "    query_response = {}\n",
    "    query = input()\n",
    "    query_tokens = query.split()\n",
    "    \n",
    "    #This counter is to check whether there is any match with this query or not\n",
    "    counter = 0\n",
    "    \n",
    "    for token in query_tokens:\n",
    "        if token in output.keys():\n",
    "            counter += 1\n",
    "            query_response[token] = list(output[token][\"docs\"].keys())\n",
    "            \n",
    "    if counter == 0:\n",
    "        print(\"No match found!\")\n",
    "    else:\n",
    "#         print(\"salam\")\n",
    "#         print(query_response)\n",
    "        ans = sort_docs(query_response) \n",
    "        print(ans)\n",
    "    \n"
   ]
  },
  {
   "cell_type": "code",
   "execution_count": 55,
   "metadata": {},
   "outputs": [
    {
     "data": {
      "text/plain": [
       "{'docs': {'1': {'positions': [8], 'tf': 1},\n",
       "  '3': {'positions': [16], 'tf': 1},\n",
       "  '5': {'positions': [13], 'tf': 1},\n",
       "  '7': {'positions': [23], 'tf': 1},\n",
       "  '9': {'positions': [0, 40], 'tf': 2},\n",
       "  '10': {'positions': [55], 'tf': 1}},\n",
       " 'df': 6}"
      ]
     },
     "execution_count": 55,
     "metadata": {},
     "output_type": "execute_result"
    }
   ],
   "source": [
    "# query()\n",
    "output['گزارش']\n"
   ]
  },
  {
   "cell_type": "code",
   "execution_count": 56,
   "metadata": {},
   "outputs": [
    {
     "name": "stdout",
     "output_type": "stream",
     "text": [
      "گزارش\n",
      "{'1': 1, '3': 1, '5': 1, '7': 1, '9': 1, '10': 1}\n"
     ]
    }
   ],
   "source": [
    "query()"
   ]
  },
  {
   "cell_type": "code",
   "execution_count": 59,
   "metadata": {},
   "outputs": [],
   "source": [
    "#This method will calculate the tf-idf weight for given term, and document\n",
    "#Instead of storing the weights we will calculate them based on tf and idf, because it will occupy lower space \n",
    "def calculate_weight (term, document_number, inverted_index_dict):\n",
    "    \n",
    "    print(term)\n",
    "    print(document_number)\n",
    "    print(inverted_index_dict[term])\n",
    "    # !!! document number is a string e.g. \"x\"\n",
    "    \n",
    "    tf_td = inverted_index_dict[term][\"docs\"][document_number]['tf']\n",
    "    idf_t = math.log10(number_of_all_docs/inverted_index_dict[term]['df'])\n",
    "    \n",
    "    if tf_td > 0:\n",
    "        w_td = (1 + math.log10(tf_td)) * idf_t\n",
    "    else:\n",
    "        w_td = 0\n",
    "    \n",
    "    return w_td"
   ]
  },
  {
   "cell_type": "code",
   "execution_count": 62,
   "metadata": {},
   "outputs": [
    {
     "name": "stdout",
     "output_type": "stream",
     "text": [
      "گزارش\n",
      "2\n",
      "{'docs': {'1': {'positions': [8], 'tf': 1}, '3': {'positions': [16], 'tf': 1}, '5': {'positions': [13], 'tf': 1}, '7': {'positions': [23], 'tf': 1}, '9': {'positions': [0, 40], 'tf': 2}, '10': {'positions': [55], 'tf': 1}}, 'df': 6}\n"
     ]
    },
    {
     "ename": "KeyError",
     "evalue": "'2'",
     "output_type": "error",
     "traceback": [
      "\u001b[0;31m---------------------------------------------------------------------------\u001b[0m",
      "\u001b[0;31mKeyError\u001b[0m                                  Traceback (most recent call last)",
      "\u001b[0;32m<ipython-input-62-40718cac4e5c>\u001b[0m in \u001b[0;36m<module>\u001b[0;34m\u001b[0m\n\u001b[0;32m----> 1\u001b[0;31m \u001b[0mscore\u001b[0m \u001b[0;34m=\u001b[0m \u001b[0mcalculate_weight\u001b[0m\u001b[0;34m(\u001b[0m\u001b[0;34m\"گزارش\"\u001b[0m\u001b[0;34m,\u001b[0m \u001b[0;34m\"2\"\u001b[0m\u001b[0;34m,\u001b[0m \u001b[0minverted_index_dict\u001b[0m\u001b[0;34m)\u001b[0m\u001b[0;34m\u001b[0m\u001b[0;34m\u001b[0m\u001b[0m\n\u001b[0m\u001b[1;32m      2\u001b[0m \u001b[0mscore\u001b[0m\u001b[0;34m\u001b[0m\u001b[0;34m\u001b[0m\u001b[0m\n",
      "\u001b[0;32m<ipython-input-59-945907a5ad79>\u001b[0m in \u001b[0;36mcalculate_weight\u001b[0;34m(term, document_number, inverted_index_dict)\u001b[0m\n\u001b[1;32m      8\u001b[0m     \u001b[0;31m# !!! document number is a string e.g. \"x\"\u001b[0m\u001b[0;34m\u001b[0m\u001b[0;34m\u001b[0m\u001b[0;34m\u001b[0m\u001b[0m\n\u001b[1;32m      9\u001b[0m \u001b[0;34m\u001b[0m\u001b[0m\n\u001b[0;32m---> 10\u001b[0;31m     \u001b[0mtf_td\u001b[0m \u001b[0;34m=\u001b[0m \u001b[0minverted_index_dict\u001b[0m\u001b[0;34m[\u001b[0m\u001b[0mterm\u001b[0m\u001b[0;34m]\u001b[0m\u001b[0;34m[\u001b[0m\u001b[0;34m\"docs\"\u001b[0m\u001b[0;34m]\u001b[0m\u001b[0;34m[\u001b[0m\u001b[0mdocument_number\u001b[0m\u001b[0;34m]\u001b[0m\u001b[0;34m[\u001b[0m\u001b[0;34m'tf'\u001b[0m\u001b[0;34m]\u001b[0m\u001b[0;34m\u001b[0m\u001b[0;34m\u001b[0m\u001b[0m\n\u001b[0m\u001b[1;32m     11\u001b[0m     \u001b[0midf_t\u001b[0m \u001b[0;34m=\u001b[0m \u001b[0mmath\u001b[0m\u001b[0;34m.\u001b[0m\u001b[0mlog10\u001b[0m\u001b[0;34m(\u001b[0m\u001b[0mnumber_of_all_docs\u001b[0m\u001b[0;34m/\u001b[0m\u001b[0minverted_index_dict\u001b[0m\u001b[0;34m[\u001b[0m\u001b[0mterm\u001b[0m\u001b[0;34m]\u001b[0m\u001b[0;34m[\u001b[0m\u001b[0;34m'df'\u001b[0m\u001b[0;34m]\u001b[0m\u001b[0;34m)\u001b[0m\u001b[0;34m\u001b[0m\u001b[0;34m\u001b[0m\u001b[0m\n\u001b[1;32m     12\u001b[0m \u001b[0;34m\u001b[0m\u001b[0m\n",
      "\u001b[0;31mKeyError\u001b[0m: '2'"
     ]
    }
   ],
   "source": [
    "score = calculate_weight(\"گزارش\", \"2\", inverted_index_dict)\n",
    "score"
   ]
  },
  {
   "cell_type": "code",
   "execution_count": null,
   "metadata": {},
   "outputs": [],
   "source": [
    "def calculate_cosine_score (query):\n",
    "    "
   ]
  }
 ],
 "metadata": {
  "kernelspec": {
   "display_name": "IR",
   "language": "python",
   "name": "ir"
  },
  "language_info": {
   "codemirror_mode": {
    "name": "ipython",
    "version": 3
   },
   "file_extension": ".py",
   "mimetype": "text/x-python",
   "name": "python",
   "nbconvert_exporter": "python",
   "pygments_lexer": "ipython3",
   "version": "3.7.3"
  }
 },
 "nbformat": 4,
 "nbformat_minor": 4
}

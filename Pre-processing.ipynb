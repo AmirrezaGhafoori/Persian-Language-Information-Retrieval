{
 "cells": [
  {
   "cell_type": "code",
   "execution_count": 31,
   "metadata": {},
   "outputs": [],
   "source": [
    "import pandas as pd \n",
    "import numpy as np\n",
    "import string"
   ]
  },
  {
   "cell_type": "code",
   "execution_count": 33,
   "metadata": {},
   "outputs": [
    {
     "data": {
      "text/plain": [
       "'!\"#$%&\\'()*+,-./:;<=>?@[\\\\]^_`{|}~'"
      ]
     },
     "execution_count": 33,
     "metadata": {},
     "output_type": "execute_result"
    }
   ],
   "source": [
    "string.punctuation"
   ]
  },
  {
   "cell_type": "code",
   "execution_count": 61,
   "metadata": {},
   "outputs": [],
   "source": [
    "\n",
    "#Reading the text file \n",
    "f = open(\"./sampleDoc/1.txt\", \"r\")\n",
    "\n",
    "text = f.read()\n",
    "text\n",
    "\n",
    "#Remmoving punctuations from the text string\n",
    "result = text.translate(str.maketrans('','', string.punctuation))\n",
    "result\n",
    "\n",
    "#Removin نیم فاصله from the text string\n",
    "result = result.replace(\"\\u200c\", \"\")"
   ]
  },
  {
   "cell_type": "code",
   "execution_count": 60,
   "metadata": {},
   "outputs": [
    {
     "data": {
      "text/plain": [
       "['نصوریان',\n",
       " 'سرمربی',\n",
       " 'تراکتور',\n",
       " 'از',\n",
       " 'سمتش',\n",
       " 'برکنار',\n",
       " 'شد',\n",
       " 'به',\n",
       " 'گزارش',\n",
       " 'تابناک',\n",
       " 'ورزشی،',\n",
       " 'با',\n",
       " 'تصمیم',\n",
       " 'مدیران',\n",
       " 'تراکتور',\n",
       " 'و',\n",
       " 'بدلیل',\n",
       " 'نتایج',\n",
       " 'ضعیف',\n",
       " 'این',\n",
       " 'تیم',\n",
       " 'پرستاره',\n",
       " 'علیرضا',\n",
       " 'منصوریان',\n",
       " 'از',\n",
       " 'سمتش',\n",
       " 'برکنار',\n",
       " 'شد',\n",
       " 'و',\n",
       " 'زمستان',\n",
       " 'تبریز',\n",
       " 'را',\n",
       " 'هم',\n",
       " 'ندید',\n",
       " 'علت',\n",
       " 'برکناری',\n",
       " 'این',\n",
       " 'سرمربی',\n",
       " 'کسب',\n",
       " 'نتایج',\n",
       " 'ضعیف',\n",
       " 'بود',\n",
       " 'و',\n",
       " 'منصوریان',\n",
       " 'با',\n",
       " 'هدایت',\n",
       " 'تراکتور',\n",
       " 'توانسته',\n",
       " 'بود',\n",
       " 'تنها',\n",
       " 'یک',\n",
       " 'پیروزی',\n",
       " 'در',\n",
       " '۵',\n",
       " 'هفته',\n",
       " 'نخست',\n",
       " 'لیگ',\n",
       " 'بیستم',\n",
       " 'به',\n",
       " 'دست',\n",
       " 'بیاورد',\n",
       " 'نام',\n",
       " 'ساکت',\n",
       " 'الهامی',\n",
       " 'به',\n",
       " 'عنوان',\n",
       " 'جدیترین',\n",
       " 'گزینه',\n",
       " 'جانشینی',\n",
       " 'منصوریان',\n",
       " 'مطرح',\n",
       " 'شده',\n",
       " 'است',\n",
       " 'الهامی',\n",
       " 'فصل',\n",
       " 'گذشته',\n",
       " 'توانسته',\n",
       " 'بود',\n",
       " 'با',\n",
       " 'تراکتور',\n",
       " 'قهرمان',\n",
       " 'جام',\n",
       " 'حذفی',\n",
       " 'شود']"
      ]
     },
     "execution_count": 60,
     "metadata": {},
     "output_type": "execute_result"
    }
   ],
   "source": [
    "#Splitting the string into seperate words (tokenizing)\n",
    "words = result.split()\n",
    "len(words)\n",
    "words"
   ]
  },
  {
   "cell_type": "raw",
   "metadata": {},
   "source": []
  },
  {
   "cell_type": "code",
   "execution_count": null,
   "metadata": {},
   "outputs": [],
   "source": []
  }
 ],
 "metadata": {
  "kernelspec": {
   "display_name": "IR",
   "language": "python",
   "name": "ir"
  },
  "language_info": {
   "codemirror_mode": {
    "name": "ipython",
    "version": 3
   },
   "file_extension": ".py",
   "mimetype": "text/x-python",
   "name": "python",
   "nbconvert_exporter": "python",
   "pygments_lexer": "ipython3",
   "version": "3.7.3"
  }
 },
 "nbformat": 4,
 "nbformat_minor": 4
}
